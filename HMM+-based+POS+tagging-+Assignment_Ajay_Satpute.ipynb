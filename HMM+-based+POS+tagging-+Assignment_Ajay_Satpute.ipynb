{
 "cells": [
  {
   "cell_type": "markdown",
   "metadata": {},
   "source": [
    "## POS tagging using modified Viterbi"
   ]
  },
  {
   "cell_type": "markdown",
   "metadata": {},
   "source": [
    "### Data Preparation"
   ]
  },
  {
   "cell_type": "code",
   "execution_count": 1,
   "metadata": {},
   "outputs": [],
   "source": [
    "#Importing libraries\n",
    "import nltk\n",
    "import re, pprint\n",
    "import numpy as np\n",
    "import pandas as pd\n",
    "import requests\n",
    "import matplotlib.pyplot as plt\n",
    "import seaborn as sns\n",
    "import pprint, time\n",
    "import random\n",
    "from sklearn.model_selection import train_test_split\n",
    "from nltk.tokenize import word_tokenize"
   ]
  },
  {
   "cell_type": "code",
   "execution_count": 2,
   "metadata": {
    "scrolled": true
   },
   "outputs": [
    {
     "data": {
      "text/plain": [
       "[[('Pierre', 'NOUN'),\n",
       "  ('Vinken', 'NOUN'),\n",
       "  (',', '.'),\n",
       "  ('61', 'NUM'),\n",
       "  ('years', 'NOUN'),\n",
       "  ('old', 'ADJ'),\n",
       "  (',', '.'),\n",
       "  ('will', 'VERB'),\n",
       "  ('join', 'VERB'),\n",
       "  ('the', 'DET'),\n",
       "  ('board', 'NOUN'),\n",
       "  ('as', 'ADP'),\n",
       "  ('a', 'DET'),\n",
       "  ('nonexecutive', 'ADJ'),\n",
       "  ('director', 'NOUN'),\n",
       "  ('Nov.', 'NOUN'),\n",
       "  ('29', 'NUM'),\n",
       "  ('.', '.')],\n",
       " [('Mr.', 'NOUN'),\n",
       "  ('Vinken', 'NOUN'),\n",
       "  ('is', 'VERB'),\n",
       "  ('chairman', 'NOUN'),\n",
       "  ('of', 'ADP'),\n",
       "  ('Elsevier', 'NOUN'),\n",
       "  ('N.V.', 'NOUN'),\n",
       "  (',', '.'),\n",
       "  ('the', 'DET'),\n",
       "  ('Dutch', 'NOUN'),\n",
       "  ('publishing', 'VERB'),\n",
       "  ('group', 'NOUN'),\n",
       "  ('.', '.')],\n",
       " [('Rudolph', 'NOUN'),\n",
       "  ('Agnew', 'NOUN'),\n",
       "  (',', '.'),\n",
       "  ('55', 'NUM'),\n",
       "  ('years', 'NOUN'),\n",
       "  ('old', 'ADJ'),\n",
       "  ('and', 'CONJ'),\n",
       "  ('former', 'ADJ'),\n",
       "  ('chairman', 'NOUN'),\n",
       "  ('of', 'ADP'),\n",
       "  ('Consolidated', 'NOUN'),\n",
       "  ('Gold', 'NOUN'),\n",
       "  ('Fields', 'NOUN'),\n",
       "  ('PLC', 'NOUN'),\n",
       "  (',', '.'),\n",
       "  ('was', 'VERB'),\n",
       "  ('named', 'VERB'),\n",
       "  ('*-1', 'X'),\n",
       "  ('a', 'DET'),\n",
       "  ('nonexecutive', 'ADJ'),\n",
       "  ('director', 'NOUN'),\n",
       "  ('of', 'ADP'),\n",
       "  ('this', 'DET'),\n",
       "  ('British', 'ADJ'),\n",
       "  ('industrial', 'ADJ'),\n",
       "  ('conglomerate', 'NOUN'),\n",
       "  ('.', '.')]]"
      ]
     },
     "execution_count": 2,
     "metadata": {},
     "output_type": "execute_result"
    }
   ],
   "source": [
    "# reading the Treebank tagged sentences\n",
    "nltk_data = list(nltk.corpus.treebank.tagged_sents(tagset='universal'))\n",
    "nltk_data[:3]"
   ]
  },
  {
   "cell_type": "code",
   "execution_count": 3,
   "metadata": {},
   "outputs": [
    {
     "name": "stdout",
     "output_type": "stream",
     "text": [
      "3718\n",
      "196\n",
      "[[('One', 'NUM'), ('bright', 'ADJ'), ('sign', 'NOUN'), ('is', 'VERB'), ('that', 'ADP'), ('a', 'DET'), ('growing', 'VERB'), ('number', 'NOUN'), ('of', 'ADP'), ('women', 'NOUN'), ('have', 'VERB'), ('entered', 'VERB'), ('the', 'DET'), ('once', 'ADV'), ('male-dominated', 'ADJ'), ('field', 'NOUN'), (';', '.'), ('more', 'ADJ'), ('than', 'ADP'), ('a', 'DET'), ('third', 'ADJ'), ('of', 'ADP'), ('the', 'DET'), ('ringers', 'NOUN'), ('today', 'NOUN'), ('are', 'VERB'), ('women', 'NOUN'), ('.', '.')], [('``', '.'), ('These', 'DET'), ('days', 'NOUN'), (',', '.'), ('banking', 'NOUN'), ('customers', 'NOUN'), ('walk', 'VERB'), ('in', 'ADP'), ('the', 'DET'), ('door', 'NOUN'), ('*-1', 'X'), ('expecting', 'VERB'), ('you', 'PRON'), ('to', 'PRT'), ('have', 'VERB'), ('a', 'DET'), ('package', 'NOUN'), ('especially', 'ADV'), ('for', 'ADP'), ('them', 'PRON'), (',', '.'), (\"''\", '.'), ('Ms.', 'NOUN'), ('Moore', 'NOUN'), ('says', 'VERB'), ('*T*-2', 'X'), ('.', '.')], [('The', 'DET'), ('rights', 'NOUN'), (',', '.'), ('which', 'DET'), ('*T*-173', 'X'), ('expire', 'VERB'), ('Nov.', 'NOUN'), ('21', 'NUM'), (',', '.'), ('can', 'VERB'), ('be', 'VERB'), ('exercised', 'VERB'), ('*-104', 'X'), ('for', 'ADP'), ('$', '.'), ('100', 'NUM'), ('*U*', 'X'), ('each', 'DET'), ('.', '.')], [('@', 'ADP')], [('Mr.', 'NOUN'), ('Trudeau', 'NOUN'), (\"'s\", 'PRT'), ('attorney', 'NOUN'), (',', '.'), ('Norman', 'NOUN'), ('K.', 'NOUN'), ('Samnick', 'NOUN'), (',', '.'), ('said', 'VERB'), ('0', 'X'), ('the', 'DET'), ('harassment', 'NOUN'), ('consists', 'VERB'), ('mainly', 'ADV'), ('of', 'ADP'), ('the', 'DET'), ('guild', 'NOUN'), (\"'s\", 'PRT'), ('year-long', 'ADJ'), ('threats', 'NOUN'), ('of', 'ADP'), ('disciplinary', 'ADJ'), ('action', 'NOUN'), ('.', '.')], [('The', 'DET'), ('ruling', 'NOUN'), ('could', 'VERB'), ('lead', 'VERB'), ('to', 'PRT'), ('the', 'DET'), ('cancellation', 'NOUN'), ('of', 'ADP'), ('huge', 'ADJ'), ('bank', 'NOUN'), ('debts', 'NOUN'), ('0', 'X'), ('the', 'DET'), ('London', 'NOUN'), ('Borough', 'NOUN'), ('of', 'ADP'), ('Hammersmith', 'NOUN'), ('and', 'CONJ'), ('Fulham', 'NOUN'), ('ran', 'VERB'), ('up', 'PRT'), ('*T*-1', 'X'), ('after', 'ADP'), ('*-2', 'X'), ('losing', 'VERB'), ('heavily', 'ADV'), ('on', 'ADP'), ('swap', 'NOUN'), ('transactions', 'NOUN'), ('.', '.')], [(\"Dunkin'\", 'NOUN'), ('has', 'VERB'), ('set', 'VERB'), ('Nov.', 'NOUN'), ('10', 'NUM'), ('as', 'ADP'), ('the', 'DET'), ('deadline', 'NOUN'), ('for', 'ADP'), ('the', 'DET'), ('receipt', 'NOUN'), ('of', 'ADP'), ('any', 'DET'), ('competing', 'VERB'), ('bids', 'NOUN'), ('.', '.')], [('The', 'DET'), ('sale', 'NOUN'), ('comes', 'VERB'), ('in', 'ADP'), ('place', 'NOUN'), ('of', 'ADP'), ('a', 'DET'), ('planned', 'VERB'), ('initial', 'ADJ'), ('public', 'ADJ'), ('offering', 'NOUN'), ('of', 'ADP'), ('Lentjes', 'NOUN'), ('stock', 'NOUN'), ('.', '.')], [('In', 'ADP'), ('1979', 'NUM'), (',', '.'), ('Hearst', 'NOUN'), ('hired', 'VERB'), ('editor', 'NOUN'), ('James', 'NOUN'), ('Bellows', 'NOUN'), (',', '.'), ('who', 'PRON'), ('*T*-48', 'X'), ('brightened', 'VERB'), ('the', 'DET'), ('editorial', 'NOUN'), ('product', 'NOUN'), ('considerably', 'ADV'), ('.', '.')], [('If', 'ADP'), ('both', 'DET'), ('agencies', 'NOUN'), ('find', 'VERB'), ('violations', 'NOUN'), ('of', 'ADP'), ('the', 'DET'), ('U.S.', 'NOUN'), ('trade', 'NOUN'), ('law', 'NOUN'), (',', '.'), ('the', 'DET'), ('U.S.', 'NOUN'), ('would', 'VERB'), ('assess', 'VERB'), ('penalty', 'NOUN'), ('duties', 'NOUN'), ('on', 'ADP'), ('the', 'DET'), ('imports', 'NOUN'), (',', '.'), ('which', 'DET'), ('*T*-1', 'X'), ('already', 'ADV'), ('are', 'VERB'), ('subject', 'ADJ'), ('to', 'PRT'), ('import', 'NOUN'), ('quotas', 'NOUN'), ('under', 'ADP'), ('bilateral', 'ADJ'), ('textile', 'NOUN'), ('and', 'CONJ'), ('apparel', 'NOUN'), ('trade', 'NOUN'), ('agreements', 'NOUN'), ('.', '.')], [('Learning', 'NOUN'), ('Materials', 'NOUN'), ('for', 'ADP'), ('the', 'DET'), ('fifth-grade', 'NOUN'), ('contains', 'VERB'), ('at', 'ADP'), ('least', 'ADJ'), ('a', 'DET'), ('dozen', 'NOUN'), ('examples', 'NOUN'), ('of', 'ADP'), ('exact', 'ADJ'), ('matches', 'NOUN'), ('or', 'CONJ'), ('close', 'ADJ'), ('parallels', 'NOUN'), ('to', 'PRT'), ('test', 'NOUN'), ('items', 'NOUN'), ('.', '.')], [('Continued', 'VERB'), ('export', 'NOUN'), ('demand', 'NOUN'), ('also', 'ADV'), ('supported', 'VERB'), ('prices', 'NOUN'), ('.', '.')], [('The', 'DET'), ('company', 'NOUN'), (',', '.'), ('which', 'DET'), ('*T*-237', 'X'), ('recently', 'ADV'), ('said', 'VERB'), ('0', 'X'), ('it', 'PRON'), ('lacked', 'VERB'), ('the', 'DET'), ('profits', 'NOUN'), ('and', 'CONJ'), ('capital', 'NOUN'), ('0', 'X'), ('*', 'X'), ('to', 'PRT'), ('pay', 'VERB'), ('dividends', 'NOUN'), ('on', 'ADP'), ('its', 'PRON'), ('Series', 'NOUN'), ('A', 'NOUN'), ('convertible', 'ADJ'), ('preferred', 'VERB'), ('stock', 'NOUN'), ('*T*-1', 'X'), (',', '.'), ('said', 'VERB'), ('0', 'X'), ('it', 'PRON'), ('has', 'VERB'), ('hired', 'VERB'), ('an', 'DET'), ('investment', 'NOUN'), ('banker', 'NOUN'), ('0', 'X'), ('*T*-2', 'X'), ('to', 'PRT'), ('help', 'VERB'), ('it', 'PRON'), ('raise', 'VERB'), ('additional', 'ADJ'), ('cash', 'NOUN'), ('.', '.')], [('I', 'PRON'), ('believe', 'VERB'), ('in', 'ADP'), ('the', 'DET'), ('system', 'NOUN'), ('.', '.')], [('Reliance', 'NOUN'), ('had', 'VERB'), ('already', 'ADV'), ('bought', 'VERB'), ('and', 'CONJ'), ('sold', 'VERB'), ('UAL', 'NOUN'), ('stock', 'NOUN'), ('at', 'ADP'), ('a', 'DET'), ('big', 'ADJ'), ('profit', 'NOUN'), ('without', 'ADP'), ('*-1', 'X'), ('making', 'VERB'), ('an', 'DET'), ('antitrust', 'ADJ'), ('filing', 'NOUN'), ('before', 'ADP'), ('the', 'DET'), ('collapse', 'NOUN'), ('Oct.', 'NOUN'), ('13', 'NUM'), ('of', 'ADP'), ('the', 'DET'), ('$', '.'), ('6.79', 'NUM'), ('billion', 'NUM'), ('*U*', 'X'), (',', '.'), ('$', '.'), ('300-a-share', 'ADJ'), ('*U*', 'X'), ('labor-management', 'NOUN'), ('buy-out', 'NOUN'), ('.', '.')], [('*', 'X'), ('Reducing', 'VERB'), ('volatility', 'NOUN'), ('.', '.')], [('*', 'X'), ('Beginning', 'VERB'), ('in', 'ADP'), ('1980', 'NUM'), (',', '.'), ('courts', 'NOUN'), ('in', 'ADP'), ('several', 'ADJ'), ('states', 'NOUN'), ('including', 'VERB'), ('California', 'NOUN'), ('and', 'CONJ'), ('New', 'NOUN'), ('York', 'NOUN'), ('decided', 'VERB'), ('*-2', 'X'), ('to', 'PRT'), ('suspend', 'VERB'), ('the', 'DET'), ('common-law', 'NOUN'), ('rule', 'NOUN'), ('that', 'ADP'), ('plaintiffs', 'NOUN'), ('must', 'VERB'), ('prove', 'VERB'), ('that', 'ADP'), ('the', 'DET'), ('defendants', 'NOUN'), ('are', 'VERB'), ('the', 'DET'), ('ones', 'NOUN'), ('who', 'PRON'), ('*T*-1', 'X'), ('are', 'VERB'), ('liable', 'ADJ'), ('.', '.')], [('Neither', 'DET'), ('Lorillard', 'NOUN'), ('nor', 'CONJ'), ('the', 'DET'), ('researchers', 'NOUN'), ('who', 'PRON'), ('*T*-3', 'X'), ('studied', 'VERB'), ('the', 'DET'), ('workers', 'NOUN'), ('were', 'VERB'), ('aware', 'ADJ'), ('of', 'ADP'), ('any', 'DET'), ('research', 'NOUN'), ('on', 'ADP'), ('smokers', 'NOUN'), ('of', 'ADP'), ('the', 'DET'), ('Kent', 'NOUN'), ('cigarettes', 'NOUN'), ('.', '.')], [('*-2', 'X'), ('Confronted', 'VERB'), ('*-1', 'X'), (',', '.'), ('Mrs.', 'NOUN'), ('Yeargin', 'NOUN'), ('admitted', 'VERB'), ('0', 'X'), ('she', 'PRON'), ('had', 'VERB'), ('given', 'VERB'), ('the', 'DET'), ('questions', 'NOUN'), ('and', 'CONJ'), ('answers', 'VERB'), ('two', 'NUM'), ('days', 'NOUN'), ('before', 'ADP'), ('the', 'DET'), ('examination', 'NOUN'), ('to', 'PRT'), ('two', 'NUM'), ('low-ability', 'ADJ'), ('geography', 'NOUN'), ('classes', 'NOUN'), ('.', '.')], [('Heiwado', 'NOUN'), ('Co', 'NOUN'), ('.', '.'), ('-LRB-', '.'), ('Japan', 'NOUN'), ('-RRB-', '.'), ('--', '.')], [('Esso', 'NOUN'), ('Australia', 'NOUN'), ('Ltd.', 'NOUN'), (',', '.'), ('a', 'DET'), ('unit', 'NOUN'), ('of', 'ADP'), ('New', 'ADJ'), ('York-based', 'ADJ'), ('Exxon', 'NOUN'), ('Corp.', 'NOUN'), (',', '.'), ('and', 'CONJ'), ('Broken', 'NOUN'), ('Hill', 'NOUN'), ('Pty.', 'NOUN'), ('operate', 'VERB'), ('the', 'DET'), ('fields', 'NOUN'), ('in', 'ADP'), ('a', 'DET'), ('joint', 'ADJ'), ('venture', 'NOUN'), ('.', '.')], [('``', '.'), ('Not', 'ADV'), ('really', 'ADV'), ('.', '.')], [('The', 'DET'), ('new', 'ADJ'), ('company', 'NOUN'), ('will', 'VERB'), ('attempt', 'VERB'), ('*-1', 'X'), ('to', 'PRT'), ('limit', 'VERB'), ('the', 'DET'), ('shipyard', 'NOUN'), (\"'s\", 'PRT'), ('losses', 'NOUN'), (',', '.'), ('participants', 'NOUN'), ('said', 'VERB'), ('0', 'X'), ('*T*-2', 'X'), ('.', '.')], [('The', 'DET'), ('business', 'NOUN'), ('had', 'VERB'), ('been', 'VERB'), ('handled', 'VERB'), ('*-86', 'X'), ('by', 'ADP'), ('VanSant', 'NOUN'), ('Dugdale', 'NOUN'), (',', '.'), ('Baltimore', 'NOUN'), ('.', '.')], [('Silver', 'NOUN'), ('and', 'CONJ'), ('platinum', 'NOUN'), (',', '.'), ('which', 'DET'), ('*T*-1', 'X'), ('have', 'VERB'), ('more', 'ADJ'), ('of', 'ADP'), ('an', 'DET'), ('industrial', 'ADJ'), ('nature', 'NOUN'), ('than', 'ADP'), ('gold', 'NOUN'), (',', '.'), ('were', 'VERB'), ('even', 'ADV'), ('weaker', 'ADJ'), (',', '.'), ('he', 'PRON'), ('said', 'VERB'), ('0', 'X'), ('*T*-2', 'X'), ('.', '.')], [('But', 'CONJ'), ('GMAC', 'NOUN'), ('approved', 'VERB'), ('the', 'DET'), ('Buick', 'NOUN'), ('program', 'NOUN'), (',', '.'), ('he', 'PRON'), ('says', 'VERB'), ('0', 'X'), ('*T*-1', 'X'), (',', '.'), ('because', 'ADP'), ('the', 'DET'), ('American', 'NOUN'), ('Express', 'NOUN'), ('green', 'ADJ'), ('card', 'NOUN'), ('requires', 'VERB'), ('payment', 'NOUN'), ('in', 'ADP'), ('full', 'ADJ'), ('upon', 'ADP'), ('billing', 'NOUN'), (',', '.'), ('and', 'CONJ'), ('so', 'ADV'), ('does', 'VERB'), (\"n't\", 'ADV'), ('carry', 'VERB'), ('any', 'DET'), ('finance', 'NOUN'), ('rates', 'NOUN'), ('.', '.')], [('For', 'ADP'), ('the', 'DET'), ('Agency', 'NOUN'), ('for', 'ADP'), ('International', 'NOUN'), ('Development', 'NOUN'), (',', '.'), ('appropriators', 'NOUN'), ('approved', 'VERB'), ('$', '.'), ('200', 'NUM'), ('million', 'NUM'), ('*U*', 'X'), ('in', 'ADP'), ('secondary', 'ADJ'), ('loan', 'NOUN'), ('guarantees', 'NOUN'), ('under', 'ADP'), ('an', 'DET'), ('expanded', 'VERB'), ('trade', 'NOUN'), ('credit', 'NOUN'), ('insurance', 'NOUN'), ('program', 'NOUN'), (',', '.'), ('and', 'CONJ'), ('total', 'ADJ'), ('loan', 'NOUN'), ('guarantees', 'NOUN'), ('for', 'ADP'), ('the', 'DET'), ('Overseas', 'NOUN'), ('Private', 'NOUN'), ('Investment', 'NOUN'), ('Corp.', 'NOUN'), ('are', 'VERB'), ('increased', 'VERB'), ('*-3', 'X'), ('by', 'ADP'), ('$', '.'), ('40', 'NUM'), ('million', 'NUM'), ('*U*', 'X'), ('over', 'ADP'), ('fiscal', 'ADJ'), ('1989', 'NUM'), ('as', 'ADP'), ('part', 'NOUN'), ('of', 'ADP'), ('the', 'DET'), ('same', 'ADJ'), ('Poland', 'NOUN'), ('package', 'NOUN'), ('.', '.')], [('Such', 'DET'), ('an', 'DET'), ('application', 'NOUN'), ('for', 'ADP'), ('federal', 'ADJ'), ('antitrust', 'ADJ'), ('clearance', 'NOUN'), ('is', 'VERB'), ('necessary', 'ADJ'), ('for', 'ADP'), ('any', 'DET'), ('investor', 'NOUN'), ('that', 'DET'), ('*T*-1', 'X'), ('might', 'VERB'), ('seek', 'VERB'), ('control', 'NOUN'), ('.', '.')], [('The', 'DET'), ('Artist', 'NOUN'), ('has', 'VERB'), ('his', 'PRON'), ('routine', 'NOUN'), ('.', '.')], [('The', 'DET'), ('company', 'NOUN'), ('forecast', 'VERB'), ('that', 'ADP'), ('fourth-quarter', 'NOUN'), ('income', 'NOUN'), ('from', 'ADP'), ('continuing', 'VERB'), ('operations', 'NOUN'), ('would', 'VERB'), ('be', 'VERB'), ('``', '.'), ('significantly', 'ADV'), (\"''\", '.'), ('lower', 'ADJ'), ('than', 'ADP'), ('a', 'DET'), ('year', 'NOUN'), ('earlier', 'ADJ'), ('.', '.')], [('But', 'CONJ'), (',', '.'), ('say', 'VERB'), ('0', 'X'), ('*T*-1', 'X'), ('Mr.', 'NOUN'), ('Dinkins', 'NOUN'), (\"'s\", 'PRT'), ('managers', 'NOUN'), (',', '.'), ('he', 'PRON'), ('did', 'VERB'), ('have', 'VERB'), ('an', 'DET'), ('office', 'NOUN'), ('and', 'CONJ'), ('his', 'PRON'), ('organization', 'NOUN'), ('did', 'VERB'), ('have', 'VERB'), ('members', 'NOUN'), ('.', '.')], [('Due', 'ADJ'), ('to', 'PRT'), ('an', 'DET'), ('editing', 'NOUN'), ('error', 'NOUN'), (',', '.'), ('a', 'DET'), ('letter', 'NOUN'), ('to', 'PRT'), ('the', 'DET'), ('editor', 'NOUN'), ('in', 'ADP'), ('yesterday', 'NOUN'), (\"'s\", 'PRT'), ('edition', 'NOUN'), ('from', 'ADP'), ('Frederick', 'NOUN'), ('H.', 'NOUN'), ('Hallett', 'NOUN'), ('mistakenly', 'ADV'), ('identified', 'VERB'), ('the', 'DET'), ('NRDC', 'NOUN'), ('.', '.')], [('Seoul', 'NOUN'), ('also', 'ADV'), ('has', 'VERB'), ('instituted', 'VERB'), ('effective', 'ADJ'), ('search-and-seizure', 'ADJ'), ('procedures', 'NOUN'), ('0', 'X'), ('*', 'X'), ('to', 'PRT'), ('aid', 'VERB'), ('these', 'DET'), ('teams', 'NOUN'), ('*T*-2', 'X'), (',', '.'), ('she', 'PRON'), ('said', 'VERB'), ('0', 'X'), ('*T*-1', 'X'), ('.', '.')], [('One', 'NUM'), ('big', 'ADJ'), ('reason', 'NOUN'), (':', '.'), ('thin', 'ADJ'), ('margins', 'NOUN'), ('.', '.')], [('If', 'ADP'), ('not', 'ADV'), ('Chicago', 'NOUN'), (',', '.'), ('then', 'ADV'), ('in', 'ADP'), ('New', 'NOUN'), ('York', 'NOUN'), (';', '.'), ('if', 'ADP'), ('not', 'ADV'), ('the', 'DET'), ('U.S.', 'NOUN'), (',', '.'), ('then', 'ADV'), ('overseas', 'ADV'), ('.', '.')], [('Mr.', 'NOUN'), ('Ross', 'NOUN'), ('said', 'VERB'), ('0', 'X'), ('he', 'PRON'), ('met', 'VERB'), ('with', 'ADP'), ('officials', 'NOUN'), ('of', 'ADP'), ('the', 'DET'), ('IRS', 'NOUN'), ('and', 'CONJ'), ('the', 'DET'), ('Justice', 'NOUN'), ('Department', 'NOUN'), (',', '.'), ('which', 'DET'), ('*T*-133', 'X'), ('would', 'VERB'), ('bring', 'VERB'), ('any', 'DET'), ('enforcement', 'NOUN'), ('actions', 'NOUN'), ('against', 'ADP'), ('taxpayers', 'NOUN'), (',', '.'), ('*-1', 'X'), ('to', 'PRT'), ('discuss', 'VERB'), ('the', 'DET'), ('issue', 'NOUN'), ('last', 'ADJ'), ('May', 'NOUN'), ('.', '.')], [('The', 'DET'), ('speed', 'NOUN'), ('of', 'ADP'), ('his', 'PRON'), ('transaction', 'NOUN'), ('is', 'VERB'), (\"n't\", 'ADV'), ('*-1', 'X'), ('to', 'PRT'), ('be', 'VERB'), ('feared', 'VERB'), ('*-79', 'X'), ('either', 'ADV'), (',', '.'), ('because', 'ADP'), ('faster', 'ADJ'), ('and', 'CONJ'), ('cleaner', 'ADJ'), ('execution', 'NOUN'), ('is', 'VERB'), ('desirable', 'ADJ'), (',', '.'), ('not', 'ADV'), ('loathsome', 'ADJ'), ('.', '.')], [('In', 'ADP'), ('addition', 'NOUN'), (',', '.'), ('operating', 'VERB'), ('results', 'NOUN'), ('were', 'VERB'), ('hit', 'VERB'), ('*-1', 'X'), ('by', 'ADP'), ('an', 'DET'), ('increase', 'NOUN'), ('in', 'ADP'), ('loan', 'NOUN'), ('and', 'CONJ'), ('real', 'ADJ'), ('estate', 'NOUN'), ('loss', 'NOUN'), ('reserves', 'NOUN'), ('.', '.')], [('But', 'CONJ'), ('the', 'DET'), ('number', 'NOUN'), ('of', 'ADP'), ('weddings', 'NOUN'), ('last', 'ADJ'), ('year', 'NOUN'), ('--', '.'), ('271,124', 'NUM'), ('--', '.'), ('was', 'VERB'), ('still', 'ADV'), ('well', 'ADV'), ('below', 'ADP'), ('the', 'DET'), ('400,000', 'NUM'), ('registered', 'VERB'), ('*', 'X'), ('in', 'ADP'), ('1972', 'NUM'), (',', '.'), ('the', 'DET'), ('last', 'ADJ'), ('year', 'NOUN'), ('of', 'ADP'), ('increasing', 'VERB'), ('marriages', 'NOUN'), ('.', '.')], [('Last', 'ADJ'), ('month', 'NOUN'), (',', '.'), ('Judge', 'NOUN'), ('Curry', 'NOUN'), ('set', 'VERB'), ('the', 'DET'), ('interest', 'NOUN'), ('rate', 'NOUN'), ('on', 'ADP'), ('the', 'DET'), ('refund', 'NOUN'), ('at', 'ADP'), ('9', 'NUM'), ('%', 'NOUN'), ('.', '.')]]\n"
     ]
    }
   ],
   "source": [
    "# Splitting into train and validation sets\n",
    "train_set, validation_set = train_test_split(nltk_data,test_size=0.05,random_state = 100)\n",
    "\n",
    "print(len(train_set))\n",
    "print(len(validation_set))\n",
    "print(train_set[:40])"
   ]
  },
  {
   "cell_type": "code",
   "execution_count": 4,
   "metadata": {
    "scrolled": true
   },
   "outputs": [
    {
     "data": {
      "text/plain": [
       "95949"
      ]
     },
     "execution_count": 4,
     "metadata": {},
     "output_type": "execute_result"
    }
   ],
   "source": [
    "# Getting list of tagged words\n",
    "train_tagged_words = [tup for sent in train_set for tup in sent]\n",
    "len(train_tagged_words)"
   ]
  },
  {
   "cell_type": "code",
   "execution_count": 5,
   "metadata": {
    "scrolled": true
   },
   "outputs": [
    {
     "data": {
      "text/plain": [
       "['One',\n",
       " 'bright',\n",
       " 'sign',\n",
       " 'is',\n",
       " 'that',\n",
       " 'a',\n",
       " 'growing',\n",
       " 'number',\n",
       " 'of',\n",
       " 'women']"
      ]
     },
     "execution_count": 5,
     "metadata": {},
     "output_type": "execute_result"
    }
   ],
   "source": [
    "# tokens \n",
    "tokens = [pair[0] for pair in train_tagged_words]\n",
    "tokens[:10]"
   ]
  },
  {
   "cell_type": "code",
   "execution_count": 6,
   "metadata": {},
   "outputs": [
    {
     "name": "stdout",
     "output_type": "stream",
     "text": [
      "12106\n"
     ]
    }
   ],
   "source": [
    "# vocabulary\n",
    "V = set(tokens)\n",
    "print(len(V))"
   ]
  },
  {
   "cell_type": "code",
   "execution_count": 7,
   "metadata": {},
   "outputs": [
    {
     "name": "stdout",
     "output_type": "stream",
     "text": [
      "No. of unique tags are 12 which are as follows:\n",
      "{'NUM', 'PRON', 'ADJ', 'X', 'ADV', 'ADP', 'VERB', 'PRT', '.', 'CONJ', 'DET', 'NOUN'}\n"
     ]
    }
   ],
   "source": [
    "# number of tags\n",
    "T = set([pair[1] for pair in train_tagged_words])\n",
    "print('No. of unique tags are',len(T),'which are as follows:')\n",
    "print(T)"
   ]
  },
  {
   "cell_type": "markdown",
   "metadata": {},
   "source": [
    "### Emission Probabilities"
   ]
  },
  {
   "cell_type": "code",
   "execution_count": 8,
   "metadata": {
    "scrolled": true
   },
   "outputs": [],
   "source": [
    "# computing P(w/t) and storing in T x V matrix\n",
    "t = len(T)\n",
    "v = len(V)\n",
    "w_given_t = np.zeros((t, v))"
   ]
  },
  {
   "cell_type": "code",
   "execution_count": 9,
   "metadata": {},
   "outputs": [],
   "source": [
    "# compute word given tag: Emission Probability\n",
    "def word_given_tag(word, tag, train_bag = train_tagged_words):\n",
    "    tag_list = [pair for pair in train_bag if pair[1]==tag]\n",
    "    count_tag = len(tag_list)\n",
    "    w_given_tag_list = [pair[0] for pair in tag_list if pair[0]==word]\n",
    "    count_w_given_tag = len(w_given_tag_list)\n",
    "    \n",
    "    return (count_w_given_tag, count_tag)"
   ]
  },
  {
   "cell_type": "markdown",
   "metadata": {},
   "source": [
    "### Transition Probabilities"
   ]
  },
  {
   "cell_type": "code",
   "execution_count": 10,
   "metadata": {},
   "outputs": [],
   "source": [
    "# compute tag given tag: tag2(t2) given tag1 (t1), i.e. Transition Probability\n",
    "\n",
    "def t2_given_t1(t2, t1, train_bag = train_tagged_words):\n",
    "    tags = [pair[1] for pair in train_bag]\n",
    "    count_t1 = len([t for t in tags if t==t1])\n",
    "    count_t2_t1 = 0\n",
    "    for index in range(len(tags)-1):\n",
    "        if tags[index]==t1 and tags[index+1] == t2:\n",
    "            count_t2_t1 += 1\n",
    "    return (count_t2_t1, count_t1)"
   ]
  },
  {
   "cell_type": "code",
   "execution_count": 11,
   "metadata": {
    "scrolled": true
   },
   "outputs": [],
   "source": [
    "# creating t x t transition matrix of tags\n",
    "# each column is t2, each row is t1\n",
    "# thus M(i, j) represents P(tj given ti)\n",
    "\n",
    "tags_matrix = np.zeros((len(T), len(T)), dtype='float32')\n",
    "for i, t1 in enumerate(list(T)):\n",
    "    for j, t2 in enumerate(list(T)): \n",
    "        tags_matrix[i, j] = t2_given_t1(t2, t1)[0]/t2_given_t1(t2, t1)[1]"
   ]
  },
  {
   "cell_type": "code",
   "execution_count": 12,
   "metadata": {
    "scrolled": true
   },
   "outputs": [
    {
     "data": {
      "text/plain": [
       "array([[1.84194893e-01, 1.48544263e-03, 3.35710049e-02, 2.11824119e-01,\n",
       "        2.67379684e-03, 3.50564457e-02, 1.69340465e-02, 2.61437912e-02,\n",
       "        1.18835412e-01, 1.30718956e-02, 3.86215094e-03, 3.52346987e-01],\n",
       "       [7.27969361e-03, 7.66283507e-03, 7.20306486e-02, 9.27203074e-02,\n",
       "        3.40996161e-02, 2.33716480e-02, 4.84291196e-01, 1.22605367e-02,\n",
       "        4.06130254e-02, 4.98084305e-03, 9.19540226e-03, 2.11494252e-01],\n",
       "       [2.08026208e-02, 4.91400482e-04, 6.71580657e-02, 2.03112196e-02,\n",
       "        4.91400482e-03, 7.86240771e-02, 1.17936116e-02, 1.01556098e-02,\n",
       "        6.38820603e-02, 1.60524156e-02, 4.91400482e-03, 7.00900912e-01],\n",
       "       [2.85668951e-03, 5.57054430e-02, 1.65053159e-02, 7.44326264e-02,\n",
       "        2.53927950e-02, 1.44897640e-01, 2.04570696e-01, 1.84891284e-01,\n",
       "        1.62831292e-01, 1.03158224e-02, 5.52293286e-02, 6.23710528e-02],\n",
       "       [3.16244997e-02, 1.56458057e-02, 1.30159780e-01, 2.33022645e-02,\n",
       "        7.72303566e-02, 1.19507320e-01, 3.44540626e-01, 1.43142473e-02,\n",
       "        1.35153130e-01, 6.99067907e-03, 6.99067935e-02, 3.16244997e-02],\n",
       "       [6.19103163e-02, 6.91190511e-02, 1.07388951e-01, 3.49835679e-02,\n",
       "        1.33573627e-02, 1.74917839e-02, 8.48086551e-03, 1.48415135e-03,\n",
       "        3.97540554e-02, 8.48086493e-04, 3.23969036e-01, 3.21212769e-01],\n",
       "       [2.24475581e-02, 3.59160937e-02, 6.56397566e-02, 2.18437955e-01,\n",
       "        8.20496976e-02, 9.11835283e-02, 1.68743715e-01, 3.14265825e-02,\n",
       "        3.42905782e-02, 5.18616010e-03, 1.33292049e-01, 1.11386329e-01],\n",
       "       [5.61023615e-02, 1.77165363e-02, 8.36614147e-02, 1.31233595e-02,\n",
       "        1.01706041e-02, 1.93569548e-02, 4.05183733e-01, 1.96850393e-03,\n",
       "        4.36351709e-02, 2.29658792e-03, 1.01049870e-01, 2.45734915e-01],\n",
       "       [8.13525841e-02, 6.52076453e-02, 4.36810479e-02, 2.69082431e-02,\n",
       "        5.22916839e-02, 9.22055766e-02, 8.87075067e-02, 2.51143589e-03,\n",
       "        9.29231346e-02, 5.80321103e-02, 1.73558161e-01, 2.22531170e-01],\n",
       "       [4.21882235e-02, 5.84144630e-02, 1.18683353e-01, 8.80852994e-03,\n",
       "        5.37783951e-02, 5.37783951e-02, 1.55308291e-01, 3.70885478e-03,\n",
       "        3.56977284e-02, 4.63606848e-04, 1.18683353e-01, 3.50486785e-01],\n",
       "       [2.16398165e-02, 3.72685748e-03, 2.04977155e-01, 4.53233942e-02,\n",
       "        1.26232272e-02, 9.61769652e-03, 4.03943248e-02, 2.40442416e-04,\n",
       "        1.79129597e-02, 4.80884832e-04, 5.77061810e-03, 6.37292624e-01],\n",
       "       [9.55009274e-03, 4.72057797e-03, 1.21645667e-02, 2.88681500e-02,\n",
       "        1.68125201e-02, 1.77057996e-01, 1.46955222e-01, 4.33566943e-02,\n",
       "        2.39950612e-01, 4.29209471e-02, 1.33628668e-02, 2.64279753e-01]],\n",
       "      dtype=float32)"
      ]
     },
     "execution_count": 12,
     "metadata": {},
     "output_type": "execute_result"
    }
   ],
   "source": [
    "tags_matrix"
   ]
  },
  {
   "cell_type": "code",
   "execution_count": 13,
   "metadata": {},
   "outputs": [],
   "source": [
    "# convert the matrix to a df for better readability\n",
    "tags_df = pd.DataFrame(tags_matrix, columns = list(T), index=list(T))"
   ]
  },
  {
   "cell_type": "code",
   "execution_count": 14,
   "metadata": {
    "scrolled": true
   },
   "outputs": [
    {
     "data": {
      "text/html": [
       "<div>\n",
       "<style scoped>\n",
       "    .dataframe tbody tr th:only-of-type {\n",
       "        vertical-align: middle;\n",
       "    }\n",
       "\n",
       "    .dataframe tbody tr th {\n",
       "        vertical-align: top;\n",
       "    }\n",
       "\n",
       "    .dataframe thead th {\n",
       "        text-align: right;\n",
       "    }\n",
       "</style>\n",
       "<table border=\"1\" class=\"dataframe\">\n",
       "  <thead>\n",
       "    <tr style=\"text-align: right;\">\n",
       "      <th></th>\n",
       "      <th>NUM</th>\n",
       "      <th>PRON</th>\n",
       "      <th>ADJ</th>\n",
       "      <th>X</th>\n",
       "      <th>ADV</th>\n",
       "      <th>ADP</th>\n",
       "      <th>VERB</th>\n",
       "      <th>PRT</th>\n",
       "      <th>.</th>\n",
       "      <th>CONJ</th>\n",
       "      <th>DET</th>\n",
       "      <th>NOUN</th>\n",
       "    </tr>\n",
       "  </thead>\n",
       "  <tbody>\n",
       "    <tr>\n",
       "      <td>NUM</td>\n",
       "      <td>0.184195</td>\n",
       "      <td>0.001485</td>\n",
       "      <td>0.033571</td>\n",
       "      <td>0.211824</td>\n",
       "      <td>0.002674</td>\n",
       "      <td>0.035056</td>\n",
       "      <td>0.016934</td>\n",
       "      <td>0.026144</td>\n",
       "      <td>0.118835</td>\n",
       "      <td>0.013072</td>\n",
       "      <td>0.003862</td>\n",
       "      <td>0.352347</td>\n",
       "    </tr>\n",
       "    <tr>\n",
       "      <td>PRON</td>\n",
       "      <td>0.007280</td>\n",
       "      <td>0.007663</td>\n",
       "      <td>0.072031</td>\n",
       "      <td>0.092720</td>\n",
       "      <td>0.034100</td>\n",
       "      <td>0.023372</td>\n",
       "      <td>0.484291</td>\n",
       "      <td>0.012261</td>\n",
       "      <td>0.040613</td>\n",
       "      <td>0.004981</td>\n",
       "      <td>0.009195</td>\n",
       "      <td>0.211494</td>\n",
       "    </tr>\n",
       "    <tr>\n",
       "      <td>ADJ</td>\n",
       "      <td>0.020803</td>\n",
       "      <td>0.000491</td>\n",
       "      <td>0.067158</td>\n",
       "      <td>0.020311</td>\n",
       "      <td>0.004914</td>\n",
       "      <td>0.078624</td>\n",
       "      <td>0.011794</td>\n",
       "      <td>0.010156</td>\n",
       "      <td>0.063882</td>\n",
       "      <td>0.016052</td>\n",
       "      <td>0.004914</td>\n",
       "      <td>0.700901</td>\n",
       "    </tr>\n",
       "    <tr>\n",
       "      <td>X</td>\n",
       "      <td>0.002857</td>\n",
       "      <td>0.055705</td>\n",
       "      <td>0.016505</td>\n",
       "      <td>0.074433</td>\n",
       "      <td>0.025393</td>\n",
       "      <td>0.144898</td>\n",
       "      <td>0.204571</td>\n",
       "      <td>0.184891</td>\n",
       "      <td>0.162831</td>\n",
       "      <td>0.010316</td>\n",
       "      <td>0.055229</td>\n",
       "      <td>0.062371</td>\n",
       "    </tr>\n",
       "    <tr>\n",
       "      <td>ADV</td>\n",
       "      <td>0.031624</td>\n",
       "      <td>0.015646</td>\n",
       "      <td>0.130160</td>\n",
       "      <td>0.023302</td>\n",
       "      <td>0.077230</td>\n",
       "      <td>0.119507</td>\n",
       "      <td>0.344541</td>\n",
       "      <td>0.014314</td>\n",
       "      <td>0.135153</td>\n",
       "      <td>0.006991</td>\n",
       "      <td>0.069907</td>\n",
       "      <td>0.031624</td>\n",
       "    </tr>\n",
       "    <tr>\n",
       "      <td>ADP</td>\n",
       "      <td>0.061910</td>\n",
       "      <td>0.069119</td>\n",
       "      <td>0.107389</td>\n",
       "      <td>0.034984</td>\n",
       "      <td>0.013357</td>\n",
       "      <td>0.017492</td>\n",
       "      <td>0.008481</td>\n",
       "      <td>0.001484</td>\n",
       "      <td>0.039754</td>\n",
       "      <td>0.000848</td>\n",
       "      <td>0.323969</td>\n",
       "      <td>0.321213</td>\n",
       "    </tr>\n",
       "    <tr>\n",
       "      <td>VERB</td>\n",
       "      <td>0.022448</td>\n",
       "      <td>0.035916</td>\n",
       "      <td>0.065640</td>\n",
       "      <td>0.218438</td>\n",
       "      <td>0.082050</td>\n",
       "      <td>0.091184</td>\n",
       "      <td>0.168744</td>\n",
       "      <td>0.031427</td>\n",
       "      <td>0.034291</td>\n",
       "      <td>0.005186</td>\n",
       "      <td>0.133292</td>\n",
       "      <td>0.111386</td>\n",
       "    </tr>\n",
       "    <tr>\n",
       "      <td>PRT</td>\n",
       "      <td>0.056102</td>\n",
       "      <td>0.017717</td>\n",
       "      <td>0.083661</td>\n",
       "      <td>0.013123</td>\n",
       "      <td>0.010171</td>\n",
       "      <td>0.019357</td>\n",
       "      <td>0.405184</td>\n",
       "      <td>0.001969</td>\n",
       "      <td>0.043635</td>\n",
       "      <td>0.002297</td>\n",
       "      <td>0.101050</td>\n",
       "      <td>0.245735</td>\n",
       "    </tr>\n",
       "    <tr>\n",
       "      <td>.</td>\n",
       "      <td>0.081353</td>\n",
       "      <td>0.065208</td>\n",
       "      <td>0.043681</td>\n",
       "      <td>0.026908</td>\n",
       "      <td>0.052292</td>\n",
       "      <td>0.092206</td>\n",
       "      <td>0.088708</td>\n",
       "      <td>0.002511</td>\n",
       "      <td>0.092923</td>\n",
       "      <td>0.058032</td>\n",
       "      <td>0.173558</td>\n",
       "      <td>0.222531</td>\n",
       "    </tr>\n",
       "    <tr>\n",
       "      <td>CONJ</td>\n",
       "      <td>0.042188</td>\n",
       "      <td>0.058414</td>\n",
       "      <td>0.118683</td>\n",
       "      <td>0.008809</td>\n",
       "      <td>0.053778</td>\n",
       "      <td>0.053778</td>\n",
       "      <td>0.155308</td>\n",
       "      <td>0.003709</td>\n",
       "      <td>0.035698</td>\n",
       "      <td>0.000464</td>\n",
       "      <td>0.118683</td>\n",
       "      <td>0.350487</td>\n",
       "    </tr>\n",
       "    <tr>\n",
       "      <td>DET</td>\n",
       "      <td>0.021640</td>\n",
       "      <td>0.003727</td>\n",
       "      <td>0.204977</td>\n",
       "      <td>0.045323</td>\n",
       "      <td>0.012623</td>\n",
       "      <td>0.009618</td>\n",
       "      <td>0.040394</td>\n",
       "      <td>0.000240</td>\n",
       "      <td>0.017913</td>\n",
       "      <td>0.000481</td>\n",
       "      <td>0.005771</td>\n",
       "      <td>0.637293</td>\n",
       "    </tr>\n",
       "    <tr>\n",
       "      <td>NOUN</td>\n",
       "      <td>0.009550</td>\n",
       "      <td>0.004721</td>\n",
       "      <td>0.012165</td>\n",
       "      <td>0.028868</td>\n",
       "      <td>0.016813</td>\n",
       "      <td>0.177058</td>\n",
       "      <td>0.146955</td>\n",
       "      <td>0.043357</td>\n",
       "      <td>0.239951</td>\n",
       "      <td>0.042921</td>\n",
       "      <td>0.013363</td>\n",
       "      <td>0.264280</td>\n",
       "    </tr>\n",
       "  </tbody>\n",
       "</table>\n",
       "</div>"
      ],
      "text/plain": [
       "           NUM      PRON       ADJ         X       ADV       ADP      VERB  \\\n",
       "NUM   0.184195  0.001485  0.033571  0.211824  0.002674  0.035056  0.016934   \n",
       "PRON  0.007280  0.007663  0.072031  0.092720  0.034100  0.023372  0.484291   \n",
       "ADJ   0.020803  0.000491  0.067158  0.020311  0.004914  0.078624  0.011794   \n",
       "X     0.002857  0.055705  0.016505  0.074433  0.025393  0.144898  0.204571   \n",
       "ADV   0.031624  0.015646  0.130160  0.023302  0.077230  0.119507  0.344541   \n",
       "ADP   0.061910  0.069119  0.107389  0.034984  0.013357  0.017492  0.008481   \n",
       "VERB  0.022448  0.035916  0.065640  0.218438  0.082050  0.091184  0.168744   \n",
       "PRT   0.056102  0.017717  0.083661  0.013123  0.010171  0.019357  0.405184   \n",
       ".     0.081353  0.065208  0.043681  0.026908  0.052292  0.092206  0.088708   \n",
       "CONJ  0.042188  0.058414  0.118683  0.008809  0.053778  0.053778  0.155308   \n",
       "DET   0.021640  0.003727  0.204977  0.045323  0.012623  0.009618  0.040394   \n",
       "NOUN  0.009550  0.004721  0.012165  0.028868  0.016813  0.177058  0.146955   \n",
       "\n",
       "           PRT         .      CONJ       DET      NOUN  \n",
       "NUM   0.026144  0.118835  0.013072  0.003862  0.352347  \n",
       "PRON  0.012261  0.040613  0.004981  0.009195  0.211494  \n",
       "ADJ   0.010156  0.063882  0.016052  0.004914  0.700901  \n",
       "X     0.184891  0.162831  0.010316  0.055229  0.062371  \n",
       "ADV   0.014314  0.135153  0.006991  0.069907  0.031624  \n",
       "ADP   0.001484  0.039754  0.000848  0.323969  0.321213  \n",
       "VERB  0.031427  0.034291  0.005186  0.133292  0.111386  \n",
       "PRT   0.001969  0.043635  0.002297  0.101050  0.245735  \n",
       ".     0.002511  0.092923  0.058032  0.173558  0.222531  \n",
       "CONJ  0.003709  0.035698  0.000464  0.118683  0.350487  \n",
       "DET   0.000240  0.017913  0.000481  0.005771  0.637293  \n",
       "NOUN  0.043357  0.239951  0.042921  0.013363  0.264280  "
      ]
     },
     "execution_count": 14,
     "metadata": {},
     "output_type": "execute_result"
    }
   ],
   "source": [
    "tags_df"
   ]
  },
  {
   "cell_type": "code",
   "execution_count": 15,
   "metadata": {
    "scrolled": true
   },
   "outputs": [
    {
     "data": {
      "text/plain": [
       "NUM     0.081353\n",
       "PRON    0.065208\n",
       "ADJ     0.043681\n",
       "X       0.026908\n",
       "ADV     0.052292\n",
       "ADP     0.092206\n",
       "VERB    0.088708\n",
       "PRT     0.002511\n",
       ".       0.092923\n",
       "CONJ    0.058032\n",
       "DET     0.173558\n",
       "NOUN    0.222531\n",
       "Name: ., dtype: float32"
      ]
     },
     "execution_count": 15,
     "metadata": {},
     "output_type": "execute_result"
    }
   ],
   "source": [
    "tags_df.loc['.', :]"
   ]
  },
  {
   "cell_type": "code",
   "execution_count": 16,
   "metadata": {},
   "outputs": [
    {
     "data": {
      "image/png": "[encoded data removed]",
      "text/plain": [
       "<Figure size 720x432 with 2 Axes>"
      ]
     },
     "metadata": {
      "needs_background": "light"
     },
     "output_type": "display_data"
    }
   ],
   "source": [
    "# heatmap of tags matrix\n",
    "# T(i, j) means P(tag j given tag i)\n",
    "plt.figure(figsize=(10, 6))\n",
    "sns.heatmap(tags_df)\n",
    "plt.show()\n"
   ]
  },
  {
   "cell_type": "code",
   "execution_count": 17,
   "metadata": {},
   "outputs": [
    {
     "data": {
      "image/png": "[encoded data removed]",
      "text/plain": [
       "<Figure size 720x432 with 2 Axes>"
      ]
     },
     "metadata": {
      "needs_background": "light"
     },
     "output_type": "display_data"
    }
   ],
   "source": [
    "# frequent tags\n",
    "# filter the df to get P(t2, t1) > 0.5\n",
    "tags_frequent = tags_df[tags_df>0.5]\n",
    "plt.figure(figsize=(10, 6))\n",
    "sns.heatmap(tags_frequent)\n",
    "plt.show()"
   ]
  },
  {
   "cell_type": "markdown",
   "metadata": {},
   "source": [
    "### Build the vanilla Viterbi based POS tagger"
   ]
  },
  {
   "cell_type": "code",
   "execution_count": 18,
   "metadata": {},
   "outputs": [],
   "source": [
    "# Vanilla Viterbi Heuristic\n",
    "def vanilla_Viterbi(words, train_bag = train_tagged_words):\n",
    "    state = []\n",
    "    T = list(set([pair[1] for pair in train_bag]))\n",
    "    \n",
    "    for key, word in enumerate(words):\n",
    "        #initialise list of probability column for a given observation\n",
    "        p = [] \n",
    "        for tag in T:\n",
    "            if key == 0:\n",
    "                transition_p = tags_df.loc['.', tag]\n",
    "            else:\n",
    "                transition_p = tags_df.loc[state[-1], tag]\n",
    "                \n",
    "            # compute emission and state probabilities\n",
    "            emission_p = word_given_tag(words[key], tag)[0]/word_given_tag(words[key], tag)[1]\n",
    "            state_probability = emission_p * transition_p    \n",
    "            p.append(state_probability)\n",
    "            \n",
    "        pmax = max(p)\n",
    "        # getting state for which probability is maximum\n",
    "        state_max = T[p.index(pmax)] \n",
    "        state.append(state_max)\n",
    "    return list(zip(words, state))\n"
   ]
  },
  {
   "cell_type": "code",
   "execution_count": 19,
   "metadata": {
    "scrolled": true
   },
   "outputs": [
    {
     "data": {
      "text/plain": [
       "[[('Hearst', 'NOUN'),\n",
       "  ('had', 'VERB'),\n",
       "  ('flirted', 'VERB'),\n",
       "  ('with', 'ADP'),\n",
       "  ('a', 'DET'),\n",
       "  ('conversion', 'NOUN'),\n",
       "  ('to', 'PRT'),\n",
       "  ('tabloid', 'ADJ'),\n",
       "  ('format', 'NOUN'),\n",
       "  ('for', 'ADP'),\n",
       "  ('years', 'NOUN'),\n",
       "  ('but', 'CONJ'),\n",
       "  ('never', 'ADV'),\n",
       "  ('executed', 'VERB'),\n",
       "  ('the', 'DET'),\n",
       "  ('plan', 'NOUN'),\n",
       "  ('.', '.')],\n",
       " [('``', '.'),\n",
       "  ('The', 'DET'),\n",
       "  ('record', 'NOUN'),\n",
       "  ('of', 'ADP'),\n",
       "  ('companies', 'NOUN'),\n",
       "  ('that', 'DET'),\n",
       "  ('*T*-8', 'X'),\n",
       "  ('have', 'VERB'),\n",
       "  ('diversified', 'VERB'),\n",
       "  ('is', 'VERB'),\n",
       "  (\"n't\", 'ADV'),\n",
       "  ('all', 'DET'),\n",
       "  ('that', 'DET'),\n",
       "  ('impressive', 'ADJ'),\n",
       "  (',', '.'),\n",
       "  (\"''\", '.'),\n",
       "  ('he', 'PRON'),\n",
       "  ('says', 'VERB'),\n",
       "  ('*T*-1', 'X'),\n",
       "  ('.', '.')],\n",
       " [('An', 'DET'),\n",
       "  ('official', 'NOUN'),\n",
       "  ('of', 'ADP'),\n",
       "  ('the', 'DET'),\n",
       "  ('Palestinian', 'NOUN'),\n",
       "  ('Olympic', 'NOUN'),\n",
       "  ('Committee', 'NOUN'),\n",
       "  ('said', 'VERB'),\n",
       "  ('0', 'X'),\n",
       "  ('the', 'DET'),\n",
       "  ('committee', 'NOUN'),\n",
       "  ('first', 'ADV'),\n",
       "  ('applied', 'VERB'),\n",
       "  ('for', 'ADP'),\n",
       "  ('membership', 'NOUN'),\n",
       "  ('in', 'ADP'),\n",
       "  ('1979', 'NUM'),\n",
       "  ('and', 'CONJ'),\n",
       "  ('renewed', 'VERB'),\n",
       "  ('its', 'PRON'),\n",
       "  ('application', 'NOUN'),\n",
       "  ('in', 'ADP'),\n",
       "  ('August', 'NOUN'),\n",
       "  ('of', 'ADP'),\n",
       "  ('this', 'DET'),\n",
       "  ('year', 'NOUN'),\n",
       "  ('.', '.')],\n",
       " [('I', 'PRON'),\n",
       "  ('believe', 'VERB'),\n",
       "  ('0', 'X'),\n",
       "  ('you', 'PRON'),\n",
       "  ('have', 'VERB'),\n",
       "  ('*-1', 'X'),\n",
       "  ('to', 'PRT'),\n",
       "  ('use', 'VERB'),\n",
       "  ('the', 'DET'),\n",
       "  ('system', 'NOUN'),\n",
       "  ('*-2', 'X'),\n",
       "  ('to', 'PRT'),\n",
       "  ('change', 'VERB'),\n",
       "  ('it', 'PRON'),\n",
       "  ('.', '.')],\n",
       " [('``', '.'),\n",
       "  ('A', 'DET'),\n",
       "  ('lot', 'NOUN'),\n",
       "  ('of', 'ADP'),\n",
       "  ('the', 'DET'),\n",
       "  ('stocks', 'NOUN'),\n",
       "  ('that', 'DET'),\n",
       "  ('*T*-117', 'X'),\n",
       "  ('have', 'VERB'),\n",
       "  ('been', 'VERB'),\n",
       "  ('under', 'ADP'),\n",
       "  ('water', 'NOUN'),\n",
       "  ('finally', 'ADV'),\n",
       "  ('saw', 'VERB'),\n",
       "  ('a', 'DET'),\n",
       "  ('reason', 'NOUN'),\n",
       "  ('0', 'X'),\n",
       "  ('*', 'X'),\n",
       "  ('to', 'PRT'),\n",
       "  ('uptick', 'VERB'),\n",
       "  ('*T*-1', 'X'),\n",
       "  (',', '.'),\n",
       "  (\"''\", '.'),\n",
       "  ('said', 'VERB'),\n",
       "  ('*T*-2', 'X'),\n",
       "  ('George', 'NOUN'),\n",
       "  ('Jennison', 'NOUN'),\n",
       "  (',', '.'),\n",
       "  ('head', 'ADJ'),\n",
       "  ('trader', 'NOUN'),\n",
       "  ('of', 'ADP'),\n",
       "  ('banking', 'NOUN'),\n",
       "  ('issues', 'NOUN'),\n",
       "  ('in', 'ADP'),\n",
       "  ('Shearson', 'NOUN'),\n",
       "  ('Lehman', 'NOUN'),\n",
       "  ('Hutton', 'NOUN'),\n",
       "  (\"'s\", 'PRT'),\n",
       "  ('OTC', 'NOUN'),\n",
       "  ('department', 'NOUN'),\n",
       "  ('.', '.')],\n",
       " [('South', 'NOUN'),\n",
       "  ('Carolina', 'NOUN'),\n",
       "  (\"'s\", 'PRT'),\n",
       "  ('reforms', 'NOUN'),\n",
       "  ('were', 'VERB'),\n",
       "  ('designed', 'VERB'),\n",
       "  ('*-1', 'X'),\n",
       "  ('for', 'ADP'),\n",
       "  ('schools', 'NOUN'),\n",
       "  ('like', 'ADP'),\n",
       "  ('Greenville', 'NOUN'),\n",
       "  ('High', 'NOUN'),\n",
       "  ('School', 'NOUN'),\n",
       "  ('.', '.')],\n",
       " [('A.', 'NOUN'),\n",
       "  ('Donald', 'NOUN'),\n",
       "  ('Anderson', 'NOUN'),\n",
       "  (',', '.'),\n",
       "  ('a', 'DET'),\n",
       "  ('59-year-old', 'ADJ'),\n",
       "  ('Los', 'NOUN'),\n",
       "  ('Angeles', 'NOUN'),\n",
       "  ('investor', 'NOUN'),\n",
       "  ('who', 'PRON'),\n",
       "  ('*T*-1', 'X'),\n",
       "  ('says', 'VERB'),\n",
       "  ('0', 'X'),\n",
       "  ('the', 'DET'),\n",
       "  ('stock', 'NOUN'),\n",
       "  ('market', 'NOUN'),\n",
       "  (\"'s\", 'PRT'),\n",
       "  ('``', '.'),\n",
       "  ('fluctuations', 'NOUN'),\n",
       "  ('and', 'CONJ'),\n",
       "  ('gyrations', 'NOUN'),\n",
       "  ('give', 'VERB'),\n",
       "  ('me', 'PRON'),\n",
       "  ('the', 'DET'),\n",
       "  ('heebie-jeebies', 'NOUN'),\n",
       "  (',', '.'),\n",
       "  (\"''\", '.'),\n",
       "  ('does', 'VERB'),\n",
       "  (\"n't\", 'ADV'),\n",
       "  ('see', 'VERB'),\n",
       "  ('much', 'ADJ'),\n",
       "  ('point', 'NOUN'),\n",
       "  ('in', 'ADP'),\n",
       "  ('*', 'X'),\n",
       "  ('outlawing', 'VERB'),\n",
       "  ('program', 'NOUN'),\n",
       "  ('trading', 'NOUN'),\n",
       "  ('.', '.')],\n",
       " [('Both', 'DET'),\n",
       "  ('contracts', 'NOUN'),\n",
       "  ('have', 'VERB'),\n",
       "  ('gained', 'VERB'),\n",
       "  ('a', 'DET'),\n",
       "  ('following', 'NOUN'),\n",
       "  ('since', 'ADP'),\n",
       "  ('the', 'DET'),\n",
       "  ('1987', 'NUM'),\n",
       "  ('global', 'ADJ'),\n",
       "  ('market', 'NOUN'),\n",
       "  ('crash', 'NOUN'),\n",
       "  ('.', '.')],\n",
       " [('In', 'ADP'),\n",
       "  ('composite', 'ADJ'),\n",
       "  ('trading', 'NOUN'),\n",
       "  ('on', 'ADP'),\n",
       "  ('the', 'DET'),\n",
       "  ('New', 'NOUN'),\n",
       "  ('York', 'NOUN'),\n",
       "  ('Stock', 'NOUN'),\n",
       "  ('Exchange', 'NOUN'),\n",
       "  ('yesterday', 'NOUN'),\n",
       "  (',', '.'),\n",
       "  ('Comprehensive', 'NOUN'),\n",
       "  ('Care', 'NOUN'),\n",
       "  ('closed', 'VERB'),\n",
       "  ('at', 'ADP'),\n",
       "  ('$', '.'),\n",
       "  ('3.75', 'NUM'),\n",
       "  ('*U*', 'X'),\n",
       "  ('a', 'DET'),\n",
       "  ('share', 'NOUN'),\n",
       "  (',', '.'),\n",
       "  ('up', 'ADV'),\n",
       "  ('12.5', 'NUM'),\n",
       "  ('cents', 'NOUN'),\n",
       "  ('.', '.')],\n",
       " [('The', 'DET'),\n",
       "  ('House', 'NOUN'),\n",
       "  ('approved', 'VERB'),\n",
       "  ('an', 'DET'),\n",
       "  ('amendment', 'NOUN'),\n",
       "  ('offered', 'VERB'),\n",
       "  ('*', 'X'),\n",
       "  ('by', 'ADP'),\n",
       "  ('Rep.', 'NOUN'),\n",
       "  ('Peter', 'NOUN'),\n",
       "  ('DeFazio', 'NOUN'),\n",
       "  ('-LRB-', '.'),\n",
       "  ('D.', 'NOUN'),\n",
       "  (',', '.'),\n",
       "  ('Ore.', 'NOUN'),\n",
       "  ('-RRB-', '.'),\n",
       "  ('that', 'DET'),\n",
       "  ('*T*-1', 'X'),\n",
       "  ('would', 'VERB'),\n",
       "  (',', '.'),\n",
       "  ('in', 'ADP'),\n",
       "  ('addition', 'NOUN'),\n",
       "  ('to', 'PRT'),\n",
       "  ('the', 'DET'),\n",
       "  ('previous', 'ADJ'),\n",
       "  ('criteria', 'NOUN'),\n",
       "  (',', '.'),\n",
       "  ('also', 'ADV'),\n",
       "  ('require', 'VERB'),\n",
       "  ('the', 'DET'),\n",
       "  ('department', 'NOUN'),\n",
       "  ('to', 'PRT'),\n",
       "  ('block', 'VERB'),\n",
       "  ('the', 'DET'),\n",
       "  ('acquisition', 'NOUN'),\n",
       "  ('of', 'ADP'),\n",
       "  ('an', 'DET'),\n",
       "  ('airline', 'NOUN'),\n",
       "  ('if', 'ADP'),\n",
       "  ('the', 'DET'),\n",
       "  ('added', 'VERB'),\n",
       "  ('debt', 'NOUN'),\n",
       "  ('incurred', 'VERB'),\n",
       "  ('*', 'X'),\n",
       "  ('were', 'VERB'),\n",
       "  ('likely', 'ADJ'),\n",
       "  ('*-2', 'X'),\n",
       "  ('to', 'PRT'),\n",
       "  ('result', 'VERB'),\n",
       "  ('in', 'ADP'),\n",
       "  ('a', 'DET'),\n",
       "  ('reduction', 'NOUN'),\n",
       "  ('in', 'ADP'),\n",
       "  ('the', 'DET'),\n",
       "  ('number', 'NOUN'),\n",
       "  ('of', 'ADP'),\n",
       "  ('the', 'DET'),\n",
       "  ('carrier', 'NOUN'),\n",
       "  (\"'s\", 'PRT'),\n",
       "  ('employees', 'NOUN'),\n",
       "  (',', '.'),\n",
       "  ('or', 'CONJ'),\n",
       "  ('their', 'PRON'),\n",
       "  ('wages', 'NOUN'),\n",
       "  ('or', 'CONJ'),\n",
       "  ('benefits', 'NOUN'),\n",
       "  ('.', '.')]]"
      ]
     },
     "execution_count": 19,
     "metadata": {},
     "output_type": "execute_result"
    }
   ],
   "source": [
    "# Running on entire test dataset would take more than 30 mins. \n",
    "# Let's test our Viterbi algorithm on a few sample sentences of validation dataset\n",
    "\n",
    "random.seed(1234)\n",
    "\n",
    "# choose random 10 sents\n",
    "rndom = [random.randint(1,len(validation_set)) for x in range(10)]\n",
    "\n",
    "# list of sents\n",
    "validation_run = [validation_set[i] for i in rndom]\n",
    "\n",
    "# list of tagged words\n",
    "validation_run_base = [tup for sent in validation_run for tup in sent]\n",
    "\n",
    "# list of untagged words\n",
    "validation_tagged_words = [tup[0] for sent in validation_run for tup in sent]\n",
    "validation_run"
   ]
  },
  {
   "cell_type": "code",
   "execution_count": 20,
   "metadata": {
    "scrolled": true
   },
   "outputs": [
    {
     "name": "stdout",
     "output_type": "stream",
     "text": [
      "Time taken in seconds:  156.5071496963501\n",
      "[('Hearst', 'NOUN'), ('had', 'VERB'), ('flirted', 'NUM'), ('with', 'ADP'), ('a', 'DET'), ('conversion', 'NOUN'), ('to', 'PRT'), ('tabloid', 'ADJ'), ('format', 'NOUN'), ('for', 'ADP'), ('years', 'NOUN'), ('but', 'CONJ'), ('never', 'ADV'), ('executed', 'VERB'), ('the', 'DET'), ('plan', 'NOUN'), ('.', '.'), ('``', '.'), ('The', 'DET'), ('record', 'NOUN'), ('of', 'ADP'), ('companies', 'NOUN'), ('that', 'ADP'), ('*T*-8', 'X'), ('have', 'VERB'), ('diversified', 'ADJ'), ('is', 'VERB'), (\"n't\", 'ADV'), ('all', 'DET'), ('that', 'ADP'), ('impressive', 'NUM'), (',', '.'), (\"''\", '.'), ('he', 'PRON'), ('says', 'VERB'), ('*T*-1', 'X'), ('.', '.'), ('An', 'DET'), ('official', 'NOUN'), ('of', 'ADP'), ('the', 'DET'), ('Palestinian', 'ADJ'), ('Olympic', 'NOUN'), ('Committee', 'NOUN'), ('said', 'VERB'), ('0', 'X'), ('the', 'DET'), ('committee', 'NOUN'), ('first', 'ADJ'), ('applied', 'VERB'), ('for', 'ADP'), ('membership', 'NOUN'), ('in', 'ADP'), ('1979', 'NUM'), ('and', 'CONJ'), ('renewed', 'VERB'), ('its', 'PRON'), ('application', 'NOUN'), ('in', 'ADP'), ('August', 'NOUN'), ('of', 'ADP'), ('this', 'DET'), ('year', 'NOUN'), ('.', '.'), ('I', 'PRON'), ('believe', 'VERB'), ('0', 'X'), ('you', 'PRON'), ('have', 'VERB'), ('*-1', 'X'), ('to', 'PRT'), ('use', 'VERB'), ('the', 'DET'), ('system', 'NOUN'), ('*-2', 'X'), ('to', 'PRT'), ('change', 'VERB'), ('it', 'PRON'), ('.', '.'), ('``', '.'), ('A', 'DET'), ('lot', 'NOUN'), ('of', 'ADP'), ('the', 'DET'), ('stocks', 'NOUN'), ('that', 'ADP'), ('*T*-117', 'NUM'), ('have', 'VERB'), ('been', 'VERB'), ('under', 'ADP'), ('water', 'NOUN'), ('finally', 'ADV'), ('saw', 'VERB'), ('a', 'DET'), ('reason', 'NOUN'), ('0', 'X'), ('*', 'X'), ('to', 'PRT'), ('uptick', 'NOUN'), ('*T*-1', 'X'), (',', '.'), (\"''\", '.'), ('said', 'VERB'), ('*T*-2', 'X'), ('George', 'NOUN'), ('Jennison', 'NOUN'), (',', '.'), ('head', 'NOUN'), ('trader', 'NOUN'), ('of', 'ADP'), ('banking', 'NOUN'), ('issues', 'NOUN'), ('in', 'ADP'), ('Shearson', 'NOUN'), ('Lehman', 'NOUN'), ('Hutton', 'NOUN'), (\"'s\", 'PRT'), ('OTC', 'NOUN'), ('department', 'NOUN'), ('.', '.'), ('South', 'NOUN'), ('Carolina', 'NOUN'), (\"'s\", 'PRT'), ('reforms', 'NOUN'), ('were', 'VERB'), ('designed', 'VERB'), ('*-1', 'X'), ('for', 'ADP'), ('schools', 'NOUN'), ('like', 'ADP'), ('Greenville', 'NOUN'), ('High', 'NOUN'), ('School', 'NOUN'), ('.', '.'), ('A.', 'NOUN'), ('Donald', 'NOUN'), ('Anderson', 'NUM'), (',', '.'), ('a', 'DET'), ('59-year-old', 'NUM'), ('Los', 'NOUN'), ('Angeles', 'NOUN'), ('investor', 'NOUN'), ('who', 'PRON'), ('*T*-1', 'X'), ('says', 'VERB'), ('0', 'X'), ('the', 'DET'), ('stock', 'NOUN'), ('market', 'NOUN'), (\"'s\", 'PRT'), ('``', '.'), ('fluctuations', 'NUM'), ('and', 'CONJ'), ('gyrations', 'NOUN'), ('give', 'VERB'), ('me', 'PRON'), ('the', 'DET'), ('heebie-jeebies', 'NUM'), (',', '.'), (\"''\", '.'), ('does', 'VERB'), (\"n't\", 'ADV'), ('see', 'VERB'), ('much', 'ADV'), ('point', 'VERB'), ('in', 'ADP'), ('*', 'X'), ('outlawing', 'NUM'), ('program', 'NOUN'), ('trading', 'NOUN'), ('.', '.'), ('Both', 'DET'), ('contracts', 'NOUN'), ('have', 'VERB'), ('gained', 'VERB'), ('a', 'DET'), ('following', 'VERB'), ('since', 'ADP'), ('the', 'DET'), ('1987', 'NUM'), ('global', 'ADJ'), ('market', 'NOUN'), ('crash', 'NOUN'), ('.', '.'), ('In', 'ADP'), ('composite', 'ADJ'), ('trading', 'NOUN'), ('on', 'ADP'), ('the', 'DET'), ('New', 'NOUN'), ('York', 'NOUN'), ('Stock', 'NOUN'), ('Exchange', 'NOUN'), ('yesterday', 'NOUN'), (',', '.'), ('Comprehensive', 'NOUN'), ('Care', 'NOUN'), ('closed', 'VERB'), ('at', 'ADP'), ('$', '.'), ('3.75', 'NUM'), ('*U*', 'X'), ('a', 'DET'), ('share', 'NOUN'), (',', '.'), ('up', 'ADV'), ('12.5', 'NUM'), ('cents', 'NOUN'), ('.', '.'), ('The', 'DET'), ('House', 'NOUN'), ('approved', 'VERB'), ('an', 'DET'), ('amendment', 'NOUN'), ('offered', 'VERB'), ('*', 'X'), ('by', 'ADP'), ('Rep.', 'NOUN'), ('Peter', 'NOUN'), ('DeFazio', 'NUM'), ('-LRB-', '.'), ('D.', 'NOUN'), (',', '.'), ('Ore.', 'NOUN'), ('-RRB-', '.'), ('that', 'DET'), ('*T*-1', 'X'), ('would', 'VERB'), (',', '.'), ('in', 'ADP'), ('addition', 'NOUN'), ('to', 'PRT'), ('the', 'DET'), ('previous', 'ADJ'), ('criteria', 'NUM'), (',', '.'), ('also', 'ADV'), ('require', 'VERB'), ('the', 'DET'), ('department', 'NOUN'), ('to', 'PRT'), ('block', 'VERB'), ('the', 'DET'), ('acquisition', 'NOUN'), ('of', 'ADP'), ('an', 'DET'), ('airline', 'NOUN'), ('if', 'ADP'), ('the', 'DET'), ('added', 'VERB'), ('debt', 'NOUN'), ('incurred', 'VERB'), ('*', 'X'), ('were', 'VERB'), ('likely', 'ADJ'), ('*-2', 'X'), ('to', 'PRT'), ('result', 'VERB'), ('in', 'ADP'), ('a', 'DET'), ('reduction', 'NOUN'), ('in', 'ADP'), ('the', 'DET'), ('number', 'NOUN'), ('of', 'ADP'), ('the', 'DET'), ('carrier', 'NOUN'), (\"'s\", 'PRT'), ('employees', 'NOUN'), (',', '.'), ('or', 'CONJ'), ('their', 'PRON'), ('wages', 'NOUN'), ('or', 'CONJ'), ('benefits', 'NOUN'), ('.', '.')]\n",
      "\n",
      "Accuracy of vanilla Viterbi is  92.42 %\n"
     ]
    }
   ],
   "source": [
    "# Tagging the validation sentences using vanilla Viterbi algorithm\n",
    "start = time.time()\n",
    "tagged_seq = vanilla_Viterbi(validation_tagged_words)\n",
    "end = time.time()\n",
    "difference = end-start\n",
    "\n",
    "print(\"Time taken in seconds: \", difference)\n",
    "print(tagged_seq)\n",
    "\n",
    "# Accuracy\n",
    "check = [i for i, j in zip(tagged_seq, validation_run_base) if i == j] \n",
    "vanilla_viterbi_accuracy = round((len(check)/len(tagged_seq))*100,2)\n",
    "print('\\nAccuracy of vanilla Viterbi is ',vanilla_viterbi_accuracy,'%')"
   ]
  },
  {
   "cell_type": "code",
   "execution_count": 21,
   "metadata": {
    "scrolled": true
   },
   "outputs": [
    {
     "data": {
      "text/plain": [
       "[[('had', 'VERB'), (('flirted', 'NUM'), ('flirted', 'VERB'))],\n",
       " [('companies', 'NOUN'), (('that', 'ADP'), ('that', 'DET'))],\n",
       " [('have', 'VERB'), (('diversified', 'ADJ'), ('diversified', 'VERB'))],\n",
       " [('all', 'DET'), (('that', 'ADP'), ('that', 'DET'))],\n",
       " [('that', 'DET'), (('impressive', 'NUM'), ('impressive', 'ADJ'))],\n",
       " [('the', 'DET'), (('Palestinian', 'ADJ'), ('Palestinian', 'NOUN'))],\n",
       " [('committee', 'NOUN'), (('first', 'ADJ'), ('first', 'ADV'))],\n",
       " [('stocks', 'NOUN'), (('that', 'ADP'), ('that', 'DET'))],\n",
       " [('that', 'DET'), (('*T*-117', 'NUM'), ('*T*-117', 'X'))],\n",
       " [('to', 'PRT'), (('uptick', 'NOUN'), ('uptick', 'VERB'))],\n",
       " [(',', '.'), (('head', 'NOUN'), ('head', 'ADJ'))],\n",
       " [('Donald', 'NOUN'), (('Anderson', 'NUM'), ('Anderson', 'NOUN'))],\n",
       " [('a', 'DET'), (('59-year-old', 'NUM'), ('59-year-old', 'ADJ'))],\n",
       " [('``', '.'), (('fluctuations', 'NUM'), ('fluctuations', 'NOUN'))],\n",
       " [('the', 'DET'), (('heebie-jeebies', 'NUM'), ('heebie-jeebies', 'NOUN'))],\n",
       " [('see', 'VERB'), (('much', 'ADV'), ('much', 'ADJ'))],\n",
       " [('much', 'ADJ'), (('point', 'VERB'), ('point', 'NOUN'))],\n",
       " [('*', 'X'), (('outlawing', 'NUM'), ('outlawing', 'VERB'))],\n",
       " [('a', 'DET'), (('following', 'VERB'), ('following', 'NOUN'))],\n",
       " [('Peter', 'NOUN'), (('DeFazio', 'NUM'), ('DeFazio', 'NOUN'))],\n",
       " [('previous', 'ADJ'), (('criteria', 'NUM'), ('criteria', 'NOUN'))]]"
      ]
     },
     "execution_count": 21,
     "metadata": {},
     "output_type": "execute_result"
    }
   ],
   "source": [
    "# Checking incorrect tagged cases\n",
    "incorrect_tagged_cases = [[validation_run_base[i-1],j] for i, j in enumerate(zip(tagged_seq, validation_run_base)) \n",
    "                          if j[0]!=j[1]]\n",
    "incorrect_tagged_cases"
   ]
  },
  {
   "cell_type": "markdown",
   "metadata": {},
   "source": [
    "### Solve the problem of unknown words"
   ]
  },
  {
   "cell_type": "markdown",
   "metadata": {},
   "source": [
    "#### <font color='red'>1. Modifying Viterbi algorithm so that all unknown words take most frequent tag "
   ]
  },
  {
   "cell_type": "code",
   "execution_count": 22,
   "metadata": {},
   "outputs": [
    {
     "data": {
      "text/plain": [
       "[('NOUN', 27539), ('VERB', 12919), ('.', 11149), ('ADP', 9433), ('DET', 8318)]"
      ]
     },
     "execution_count": 22,
     "metadata": {},
     "output_type": "execute_result"
    }
   ],
   "source": [
    "# Finding most frequent tag\n",
    "from collections import Counter\n",
    "tags = [pair[1] for pair in train_tagged_words]\n",
    "tag_counts = Counter(tags)\n",
    "# Checking 5 most common tags\n",
    "tag_counts.most_common(5)"
   ]
  },
  {
   "cell_type": "code",
   "execution_count": 23,
   "metadata": {},
   "outputs": [],
   "source": [
    "from nltk.tag import DefaultTagger \n",
    "  \n",
    "# Defining most frequent tag \n",
    "tagging = DefaultTagger('NOUN') "
   ]
  },
  {
   "cell_type": "code",
   "execution_count": 24,
   "metadata": {},
   "outputs": [],
   "source": [
    "# 1st modified Viterbi Heuristic\n",
    "def Viterbi_mod_1(words, train_bag = train_tagged_words):\n",
    "    state = []\n",
    "    T = list(set([pair[1] for pair in train_bag]))\n",
    "    \n",
    "    for key, word in enumerate(words):\n",
    "        #initialise list of probability column for a given observation\n",
    "        p = [] \n",
    "        for tag in T:\n",
    "            if key == 0:\n",
    "                transition_p = tags_df.loc['.', tag]\n",
    "            else:\n",
    "                transition_p = tags_df.loc[state[-1], tag]\n",
    "                \n",
    "            # compute emission and state probabilities\n",
    "            emission_p = word_given_tag(words[key], tag)[0]/word_given_tag(words[key], tag)[1]\n",
    "            state_probability = emission_p * transition_p \n",
    "            p.append(state_probability)\n",
    "        pmax = max(p)\n",
    "        state_max = tagging.tag([word])[0][1]\n",
    "        \n",
    "        if pmax==0:\n",
    "            state_max = tagging.tag([word])[0][1] # Tagging 'NOUN'(most frequent tag) to unknown words\n",
    "        else:\n",
    "            state_max = T[p.index(pmax)] \n",
    "        state.append(state_max)\n",
    "    return list(zip(words, state))"
   ]
  },
  {
   "cell_type": "markdown",
   "metadata": {},
   "source": [
    "#### <font color='red'>2. Modifying Viterbi algorithm using combination of rule based and unigram tagger."
   ]
  },
  {
   "cell_type": "code",
   "execution_count": 25,
   "metadata": {},
   "outputs": [],
   "source": [
    "# To improve the performance,we specify combination of rule based and unigram tagger for unknown words \n",
    "# Creating patterns for tagging\n",
    "patterns = [\n",
    "    (r'.*ing$', 'VERB'),              # gerund\n",
    "    (r'.*ed$', 'VERB'),               # past tense\n",
    "    (r'.*es$', 'VERB'),               # 3rd singular present\n",
    "    (r'.*(s|\\'s)$', 'NOUN'),          # plural and possessive nouns\n",
    "    (r'^-?[0-9]+(.[0-9]+)?$', 'NUM'), # cardinal numbers\n",
    "    (r'\\*T?\\*?-[0-9]+$', 'X'),        # X\n",
    "    (r'.*ive$', 'ADJ'),               # ADJ  for words such aggressive, secretive\n",
    "    (r'.*', 'NOUN'),                  # for words not satisfying above rules \n",
    "]\n",
    "\n",
    "# rule based tagger\n",
    "rbt = nltk.RegexpTagger(patterns)\n",
    "\n",
    "# lexicon backed up by the rule-based tagger\n",
    "lexicon_tagger = nltk.UnigramTagger(train_set, backoff=rbt)"
   ]
  },
  {
   "cell_type": "code",
   "execution_count": 26,
   "metadata": {},
   "outputs": [],
   "source": [
    "# 2nd modified Viterbi technique using combination of rule based and unigram tagger.\n",
    "def Viterbi_mod_2(words, train_bag = train_tagged_words):\n",
    "    state = []\n",
    "    T = list(set([pair[1] for pair in train_bag]))\n",
    "    \n",
    "    for key, word in enumerate(words):\n",
    "        #initialise list of probability column for a given observation\n",
    "        p = [] \n",
    "        for tag in T:\n",
    "            if key == 0:\n",
    "                transition_p = tags_df.loc['.', tag]\n",
    "            else:\n",
    "                transition_p = tags_df.loc[state[-1], tag]\n",
    "                \n",
    "            # compute emission and state probabilities\n",
    "            emission_p = word_given_tag(words[key], tag)[0]/word_given_tag(words[key], tag)[1]\n",
    "            state_probability = emission_p * transition_p    \n",
    "            p.append(state_probability)\n",
    "            \n",
    "        pmax = max(p)\n",
    "        state_max = lexicon_tagger.tag([word])[0][1]       \n",
    "       \n",
    "        if(pmax==0):\n",
    "            state_max = lexicon_tagger.tag([word])[0][1] # using combination of rule based and unigram tagger for unknown words.\n",
    "        else:\n",
    "            if state_max != 'X':\n",
    "                state_max = T[p.index(pmax)]                        \n",
    "        state.append(state_max)\n",
    "    return list(zip(words, state))"
   ]
  },
  {
   "cell_type": "markdown",
   "metadata": {},
   "source": [
    "#### Evaluating tagging accuracy"
   ]
  },
  {
   "cell_type": "markdown",
   "metadata": {},
   "source": [
    "#### <font color='red'>Tagging the validation sentences using 1st modified Viterbi algorithm"
   ]
  },
  {
   "cell_type": "code",
   "execution_count": 27,
   "metadata": {
    "scrolled": true
   },
   "outputs": [
    {
     "name": "stdout",
     "output_type": "stream",
     "text": [
      "Time taken in seconds:  157.59405159950256\n",
      "[('Hearst', 'NOUN'), ('had', 'VERB'), ('flirted', 'NOUN'), ('with', 'ADP'), ('a', 'DET'), ('conversion', 'NOUN'), ('to', 'PRT'), ('tabloid', 'ADJ'), ('format', 'NOUN'), ('for', 'ADP'), ('years', 'NOUN'), ('but', 'CONJ'), ('never', 'ADV'), ('executed', 'VERB'), ('the', 'DET'), ('plan', 'NOUN'), ('.', '.'), ('``', '.'), ('The', 'DET'), ('record', 'NOUN'), ('of', 'ADP'), ('companies', 'NOUN'), ('that', 'ADP'), ('*T*-8', 'X'), ('have', 'VERB'), ('diversified', 'ADJ'), ('is', 'VERB'), (\"n't\", 'ADV'), ('all', 'DET'), ('that', 'ADP'), ('impressive', 'NOUN'), (',', '.'), (\"''\", '.'), ('he', 'PRON'), ('says', 'VERB'), ('*T*-1', 'X'), ('.', '.'), ('An', 'DET'), ('official', 'NOUN'), ('of', 'ADP'), ('the', 'DET'), ('Palestinian', 'ADJ'), ('Olympic', 'NOUN'), ('Committee', 'NOUN'), ('said', 'VERB'), ('0', 'X'), ('the', 'DET'), ('committee', 'NOUN'), ('first', 'ADJ'), ('applied', 'VERB'), ('for', 'ADP'), ('membership', 'NOUN'), ('in', 'ADP'), ('1979', 'NUM'), ('and', 'CONJ'), ('renewed', 'VERB'), ('its', 'PRON'), ('application', 'NOUN'), ('in', 'ADP'), ('August', 'NOUN'), ('of', 'ADP'), ('this', 'DET'), ('year', 'NOUN'), ('.', '.'), ('I', 'PRON'), ('believe', 'VERB'), ('0', 'X'), ('you', 'PRON'), ('have', 'VERB'), ('*-1', 'X'), ('to', 'PRT'), ('use', 'VERB'), ('the', 'DET'), ('system', 'NOUN'), ('*-2', 'X'), ('to', 'PRT'), ('change', 'VERB'), ('it', 'PRON'), ('.', '.'), ('``', '.'), ('A', 'DET'), ('lot', 'NOUN'), ('of', 'ADP'), ('the', 'DET'), ('stocks', 'NOUN'), ('that', 'ADP'), ('*T*-117', 'NOUN'), ('have', 'VERB'), ('been', 'VERB'), ('under', 'ADP'), ('water', 'NOUN'), ('finally', 'ADV'), ('saw', 'VERB'), ('a', 'DET'), ('reason', 'NOUN'), ('0', 'X'), ('*', 'X'), ('to', 'PRT'), ('uptick', 'NOUN'), ('*T*-1', 'X'), (',', '.'), (\"''\", '.'), ('said', 'VERB'), ('*T*-2', 'X'), ('George', 'NOUN'), ('Jennison', 'NOUN'), (',', '.'), ('head', 'NOUN'), ('trader', 'NOUN'), ('of', 'ADP'), ('banking', 'NOUN'), ('issues', 'NOUN'), ('in', 'ADP'), ('Shearson', 'NOUN'), ('Lehman', 'NOUN'), ('Hutton', 'NOUN'), (\"'s\", 'PRT'), ('OTC', 'NOUN'), ('department', 'NOUN'), ('.', '.'), ('South', 'NOUN'), ('Carolina', 'NOUN'), (\"'s\", 'PRT'), ('reforms', 'NOUN'), ('were', 'VERB'), ('designed', 'VERB'), ('*-1', 'X'), ('for', 'ADP'), ('schools', 'NOUN'), ('like', 'ADP'), ('Greenville', 'NOUN'), ('High', 'NOUN'), ('School', 'NOUN'), ('.', '.'), ('A.', 'NOUN'), ('Donald', 'NOUN'), ('Anderson', 'NOUN'), (',', '.'), ('a', 'DET'), ('59-year-old', 'NOUN'), ('Los', 'NOUN'), ('Angeles', 'NOUN'), ('investor', 'NOUN'), ('who', 'PRON'), ('*T*-1', 'X'), ('says', 'VERB'), ('0', 'X'), ('the', 'DET'), ('stock', 'NOUN'), ('market', 'NOUN'), (\"'s\", 'PRT'), ('``', '.'), ('fluctuations', 'NOUN'), ('and', 'CONJ'), ('gyrations', 'NOUN'), ('give', 'VERB'), ('me', 'PRON'), ('the', 'DET'), ('heebie-jeebies', 'NOUN'), (',', '.'), (\"''\", '.'), ('does', 'VERB'), (\"n't\", 'ADV'), ('see', 'VERB'), ('much', 'ADV'), ('point', 'VERB'), ('in', 'ADP'), ('*', 'X'), ('outlawing', 'NOUN'), ('program', 'NOUN'), ('trading', 'NOUN'), ('.', '.'), ('Both', 'DET'), ('contracts', 'NOUN'), ('have', 'VERB'), ('gained', 'VERB'), ('a', 'DET'), ('following', 'VERB'), ('since', 'ADP'), ('the', 'DET'), ('1987', 'NUM'), ('global', 'ADJ'), ('market', 'NOUN'), ('crash', 'NOUN'), ('.', '.'), ('In', 'ADP'), ('composite', 'ADJ'), ('trading', 'NOUN'), ('on', 'ADP'), ('the', 'DET'), ('New', 'NOUN'), ('York', 'NOUN'), ('Stock', 'NOUN'), ('Exchange', 'NOUN'), ('yesterday', 'NOUN'), (',', '.'), ('Comprehensive', 'NOUN'), ('Care', 'NOUN'), ('closed', 'VERB'), ('at', 'ADP'), ('$', '.'), ('3.75', 'NUM'), ('*U*', 'X'), ('a', 'DET'), ('share', 'NOUN'), (',', '.'), ('up', 'ADV'), ('12.5', 'NUM'), ('cents', 'NOUN'), ('.', '.'), ('The', 'DET'), ('House', 'NOUN'), ('approved', 'VERB'), ('an', 'DET'), ('amendment', 'NOUN'), ('offered', 'VERB'), ('*', 'X'), ('by', 'ADP'), ('Rep.', 'NOUN'), ('Peter', 'NOUN'), ('DeFazio', 'NOUN'), ('-LRB-', '.'), ('D.', 'NOUN'), (',', '.'), ('Ore.', 'NOUN'), ('-RRB-', '.'), ('that', 'DET'), ('*T*-1', 'X'), ('would', 'VERB'), (',', '.'), ('in', 'ADP'), ('addition', 'NOUN'), ('to', 'PRT'), ('the', 'DET'), ('previous', 'ADJ'), ('criteria', 'NOUN'), (',', '.'), ('also', 'ADV'), ('require', 'VERB'), ('the', 'DET'), ('department', 'NOUN'), ('to', 'PRT'), ('block', 'VERB'), ('the', 'DET'), ('acquisition', 'NOUN'), ('of', 'ADP'), ('an', 'DET'), ('airline', 'NOUN'), ('if', 'ADP'), ('the', 'DET'), ('added', 'VERB'), ('debt', 'NOUN'), ('incurred', 'VERB'), ('*', 'X'), ('were', 'VERB'), ('likely', 'ADJ'), ('*-2', 'X'), ('to', 'PRT'), ('result', 'VERB'), ('in', 'ADP'), ('a', 'DET'), ('reduction', 'NOUN'), ('in', 'ADP'), ('the', 'DET'), ('number', 'NOUN'), ('of', 'ADP'), ('the', 'DET'), ('carrier', 'NOUN'), (\"'s\", 'PRT'), ('employees', 'NOUN'), (',', '.'), ('or', 'CONJ'), ('their', 'PRON'), ('wages', 'NOUN'), ('or', 'CONJ'), ('benefits', 'NOUN'), ('.', '.')]\n",
      "\n",
      "Accuracy of Viterbi_mod_1 is  94.22 %\n"
     ]
    }
   ],
   "source": [
    "start = time.time()\n",
    "tagged_seq_1 = Viterbi_mod_1(validation_tagged_words)\n",
    "end = time.time()\n",
    "difference = end-start\n",
    "\n",
    "print(\"Time taken in seconds: \", difference)\n",
    "print(tagged_seq_1)\n",
    "\n",
    "# Accuracy\n",
    "check = [i for i, j in zip(tagged_seq_1, validation_run_base) if i == j] \n",
    "viterbi_mod_1_accuracy = round((len(check)/len(tagged_seq_1))*100,2)\n",
    "print('\\nAccuracy of Viterbi_mod_1 is ',viterbi_mod_1_accuracy,'%')"
   ]
  },
  {
   "cell_type": "code",
   "execution_count": 28,
   "metadata": {
    "scrolled": true
   },
   "outputs": [
    {
     "data": {
      "text/plain": [
       "[[('had', 'VERB'), (('flirted', 'NOUN'), ('flirted', 'VERB'))],\n",
       " [('companies', 'NOUN'), (('that', 'ADP'), ('that', 'DET'))],\n",
       " [('have', 'VERB'), (('diversified', 'ADJ'), ('diversified', 'VERB'))],\n",
       " [('all', 'DET'), (('that', 'ADP'), ('that', 'DET'))],\n",
       " [('that', 'DET'), (('impressive', 'NOUN'), ('impressive', 'ADJ'))],\n",
       " [('the', 'DET'), (('Palestinian', 'ADJ'), ('Palestinian', 'NOUN'))],\n",
       " [('committee', 'NOUN'), (('first', 'ADJ'), ('first', 'ADV'))],\n",
       " [('stocks', 'NOUN'), (('that', 'ADP'), ('that', 'DET'))],\n",
       " [('that', 'DET'), (('*T*-117', 'NOUN'), ('*T*-117', 'X'))],\n",
       " [('to', 'PRT'), (('uptick', 'NOUN'), ('uptick', 'VERB'))],\n",
       " [(',', '.'), (('head', 'NOUN'), ('head', 'ADJ'))],\n",
       " [('a', 'DET'), (('59-year-old', 'NOUN'), ('59-year-old', 'ADJ'))],\n",
       " [('see', 'VERB'), (('much', 'ADV'), ('much', 'ADJ'))],\n",
       " [('much', 'ADJ'), (('point', 'VERB'), ('point', 'NOUN'))],\n",
       " [('*', 'X'), (('outlawing', 'NOUN'), ('outlawing', 'VERB'))],\n",
       " [('a', 'DET'), (('following', 'VERB'), ('following', 'NOUN'))]]"
      ]
     },
     "execution_count": 28,
     "metadata": {},
     "output_type": "execute_result"
    }
   ],
   "source": [
    "incorrect_tagged_cases = [[validation_run_base[i-1],j] for i, j in enumerate(zip(tagged_seq_1, validation_run_base)) \n",
    "                          if j[0]!=j[1]]\n",
    "incorrect_tagged_cases"
   ]
  },
  {
   "cell_type": "markdown",
   "metadata": {},
   "source": [
    "#### <font color='red'>Tagging the validation sentences using 2nd modified Viterbi algorithm"
   ]
  },
  {
   "cell_type": "code",
   "execution_count": 29,
   "metadata": {
    "scrolled": true
   },
   "outputs": [
    {
     "name": "stdout",
     "output_type": "stream",
     "text": [
      "Time taken in seconds:  152.00543451309204\n",
      "[('Hearst', 'NOUN'), ('had', 'VERB'), ('flirted', 'VERB'), ('with', 'ADP'), ('a', 'DET'), ('conversion', 'NOUN'), ('to', 'PRT'), ('tabloid', 'ADJ'), ('format', 'NOUN'), ('for', 'ADP'), ('years', 'NOUN'), ('but', 'CONJ'), ('never', 'ADV'), ('executed', 'VERB'), ('the', 'DET'), ('plan', 'NOUN'), ('.', '.'), ('``', '.'), ('The', 'DET'), ('record', 'NOUN'), ('of', 'ADP'), ('companies', 'NOUN'), ('that', 'ADP'), ('*T*-8', 'X'), ('have', 'VERB'), ('diversified', 'ADJ'), ('is', 'VERB'), (\"n't\", 'ADV'), ('all', 'DET'), ('that', 'ADP'), ('impressive', 'ADJ'), (',', '.'), (\"''\", '.'), ('he', 'PRON'), ('says', 'VERB'), ('*T*-1', 'X'), ('.', '.'), ('An', 'DET'), ('official', 'NOUN'), ('of', 'ADP'), ('the', 'DET'), ('Palestinian', 'ADJ'), ('Olympic', 'NOUN'), ('Committee', 'NOUN'), ('said', 'VERB'), ('0', 'X'), ('the', 'DET'), ('committee', 'NOUN'), ('first', 'ADJ'), ('applied', 'VERB'), ('for', 'ADP'), ('membership', 'NOUN'), ('in', 'ADP'), ('1979', 'NUM'), ('and', 'CONJ'), ('renewed', 'VERB'), ('its', 'PRON'), ('application', 'NOUN'), ('in', 'ADP'), ('August', 'NOUN'), ('of', 'ADP'), ('this', 'DET'), ('year', 'NOUN'), ('.', '.'), ('I', 'PRON'), ('believe', 'VERB'), ('0', 'X'), ('you', 'PRON'), ('have', 'VERB'), ('*-1', 'X'), ('to', 'PRT'), ('use', 'VERB'), ('the', 'DET'), ('system', 'NOUN'), ('*-2', 'X'), ('to', 'PRT'), ('change', 'VERB'), ('it', 'PRON'), ('.', '.'), ('``', '.'), ('A', 'DET'), ('lot', 'NOUN'), ('of', 'ADP'), ('the', 'DET'), ('stocks', 'NOUN'), ('that', 'ADP'), ('*T*-117', 'X'), ('have', 'VERB'), ('been', 'VERB'), ('under', 'ADP'), ('water', 'NOUN'), ('finally', 'ADV'), ('saw', 'VERB'), ('a', 'DET'), ('reason', 'NOUN'), ('0', 'X'), ('*', 'X'), ('to', 'PRT'), ('uptick', 'NOUN'), ('*T*-1', 'X'), (',', '.'), (\"''\", '.'), ('said', 'VERB'), ('*T*-2', 'X'), ('George', 'NOUN'), ('Jennison', 'NOUN'), (',', '.'), ('head', 'NOUN'), ('trader', 'NOUN'), ('of', 'ADP'), ('banking', 'NOUN'), ('issues', 'NOUN'), ('in', 'ADP'), ('Shearson', 'NOUN'), ('Lehman', 'NOUN'), ('Hutton', 'NOUN'), (\"'s\", 'PRT'), ('OTC', 'NOUN'), ('department', 'NOUN'), ('.', '.'), ('South', 'NOUN'), ('Carolina', 'NOUN'), (\"'s\", 'PRT'), ('reforms', 'NOUN'), ('were', 'VERB'), ('designed', 'VERB'), ('*-1', 'X'), ('for', 'ADP'), ('schools', 'NOUN'), ('like', 'ADP'), ('Greenville', 'NOUN'), ('High', 'NOUN'), ('School', 'NOUN'), ('.', '.'), ('A.', 'NOUN'), ('Donald', 'NOUN'), ('Anderson', 'NOUN'), (',', '.'), ('a', 'DET'), ('59-year-old', 'NOUN'), ('Los', 'NOUN'), ('Angeles', 'NOUN'), ('investor', 'NOUN'), ('who', 'PRON'), ('*T*-1', 'X'), ('says', 'VERB'), ('0', 'X'), ('the', 'DET'), ('stock', 'NOUN'), ('market', 'NOUN'), (\"'s\", 'PRT'), ('``', '.'), ('fluctuations', 'NOUN'), ('and', 'CONJ'), ('gyrations', 'NOUN'), ('give', 'VERB'), ('me', 'PRON'), ('the', 'DET'), ('heebie-jeebies', 'VERB'), (',', '.'), (\"''\", '.'), ('does', 'VERB'), (\"n't\", 'ADV'), ('see', 'VERB'), ('much', 'ADV'), ('point', 'VERB'), ('in', 'ADP'), ('*', 'X'), ('outlawing', 'VERB'), ('program', 'NOUN'), ('trading', 'NOUN'), ('.', '.'), ('Both', 'DET'), ('contracts', 'NOUN'), ('have', 'VERB'), ('gained', 'VERB'), ('a', 'DET'), ('following', 'VERB'), ('since', 'ADP'), ('the', 'DET'), ('1987', 'NUM'), ('global', 'ADJ'), ('market', 'NOUN'), ('crash', 'NOUN'), ('.', '.'), ('In', 'ADP'), ('composite', 'ADJ'), ('trading', 'NOUN'), ('on', 'ADP'), ('the', 'DET'), ('New', 'NOUN'), ('York', 'NOUN'), ('Stock', 'NOUN'), ('Exchange', 'NOUN'), ('yesterday', 'NOUN'), (',', '.'), ('Comprehensive', 'NOUN'), ('Care', 'NOUN'), ('closed', 'VERB'), ('at', 'ADP'), ('$', '.'), ('3.75', 'NUM'), ('*U*', 'X'), ('a', 'DET'), ('share', 'NOUN'), (',', '.'), ('up', 'ADV'), ('12.5', 'NUM'), ('cents', 'NOUN'), ('.', '.'), ('The', 'DET'), ('House', 'NOUN'), ('approved', 'VERB'), ('an', 'DET'), ('amendment', 'NOUN'), ('offered', 'VERB'), ('*', 'X'), ('by', 'ADP'), ('Rep.', 'NOUN'), ('Peter', 'NOUN'), ('DeFazio', 'NOUN'), ('-LRB-', '.'), ('D.', 'NOUN'), (',', '.'), ('Ore.', 'NOUN'), ('-RRB-', '.'), ('that', 'DET'), ('*T*-1', 'X'), ('would', 'VERB'), (',', '.'), ('in', 'ADP'), ('addition', 'NOUN'), ('to', 'PRT'), ('the', 'DET'), ('previous', 'ADJ'), ('criteria', 'NOUN'), (',', '.'), ('also', 'ADV'), ('require', 'VERB'), ('the', 'DET'), ('department', 'NOUN'), ('to', 'PRT'), ('block', 'VERB'), ('the', 'DET'), ('acquisition', 'NOUN'), ('of', 'ADP'), ('an', 'DET'), ('airline', 'NOUN'), ('if', 'ADP'), ('the', 'DET'), ('added', 'VERB'), ('debt', 'NOUN'), ('incurred', 'VERB'), ('*', 'X'), ('were', 'VERB'), ('likely', 'ADJ'), ('*-2', 'X'), ('to', 'PRT'), ('result', 'VERB'), ('in', 'ADP'), ('a', 'DET'), ('reduction', 'NOUN'), ('in', 'ADP'), ('the', 'DET'), ('number', 'NOUN'), ('of', 'ADP'), ('the', 'DET'), ('carrier', 'NOUN'), (\"'s\", 'PRT'), ('employees', 'NOUN'), (',', '.'), ('or', 'CONJ'), ('their', 'PRON'), ('wages', 'NOUN'), ('or', 'CONJ'), ('benefits', 'NOUN'), ('.', '.')]\n",
      "\n",
      "Accuracy of Viterbi_mod_2 is  95.31 %\n"
     ]
    }
   ],
   "source": [
    "start = time.time()\n",
    "tagged_seq_2 = Viterbi_mod_2(validation_tagged_words)\n",
    "end = time.time()\n",
    "difference = end-start\n",
    "\n",
    "print(\"Time taken in seconds: \", difference)\n",
    "print(tagged_seq_2)\n",
    "#print(test_run_base)\n",
    "\n",
    "# Accuracy\n",
    "check = [i for i, j in zip(tagged_seq_2, validation_run_base) if i == j] \n",
    "viterbi_mod_2_accuracy = round((len(check)/len(tagged_seq_2))*100,2)\n",
    "print('\\nAccuracy of Viterbi_mod_2 is ',viterbi_mod_2_accuracy,'%')"
   ]
  },
  {
   "cell_type": "code",
   "execution_count": 30,
   "metadata": {
    "scrolled": true
   },
   "outputs": [
    {
     "data": {
      "text/plain": [
       "[[('companies', 'NOUN'), (('that', 'ADP'), ('that', 'DET'))],\n",
       " [('have', 'VERB'), (('diversified', 'ADJ'), ('diversified', 'VERB'))],\n",
       " [('all', 'DET'), (('that', 'ADP'), ('that', 'DET'))],\n",
       " [('the', 'DET'), (('Palestinian', 'ADJ'), ('Palestinian', 'NOUN'))],\n",
       " [('committee', 'NOUN'), (('first', 'ADJ'), ('first', 'ADV'))],\n",
       " [('stocks', 'NOUN'), (('that', 'ADP'), ('that', 'DET'))],\n",
       " [('to', 'PRT'), (('uptick', 'NOUN'), ('uptick', 'VERB'))],\n",
       " [(',', '.'), (('head', 'NOUN'), ('head', 'ADJ'))],\n",
       " [('a', 'DET'), (('59-year-old', 'NOUN'), ('59-year-old', 'ADJ'))],\n",
       " [('the', 'DET'), (('heebie-jeebies', 'VERB'), ('heebie-jeebies', 'NOUN'))],\n",
       " [('see', 'VERB'), (('much', 'ADV'), ('much', 'ADJ'))],\n",
       " [('much', 'ADJ'), (('point', 'VERB'), ('point', 'NOUN'))],\n",
       " [('a', 'DET'), (('following', 'VERB'), ('following', 'NOUN'))]]"
      ]
     },
     "execution_count": 30,
     "metadata": {},
     "output_type": "execute_result"
    }
   ],
   "source": [
    "incorrect_tagged_cases = [[validation_run_base[i-1],j] for i, j in enumerate(zip(tagged_seq_2, validation_run_base)) \n",
    "                          if j[0]!=j[1]]\n",
    "incorrect_tagged_cases"
   ]
  },
  {
   "cell_type": "markdown",
   "metadata": {},
   "source": [
    "### Compare the tagging accuracies of the modifications with the vanilla Viterbi algorithm"
   ]
  },
  {
   "cell_type": "code",
   "execution_count": 31,
   "metadata": {},
   "outputs": [
    {
     "data": {
      "text/html": [
       "<div>\n",
       "<style scoped>\n",
       "    .dataframe tbody tr th:only-of-type {\n",
       "        vertical-align: middle;\n",
       "    }\n",
       "\n",
       "    .dataframe tbody tr th {\n",
       "        vertical-align: top;\n",
       "    }\n",
       "\n",
       "    .dataframe thead th {\n",
       "        text-align: right;\n",
       "    }\n",
       "</style>\n",
       "<table border=\"1\" class=\"dataframe\">\n",
       "  <thead>\n",
       "    <tr style=\"text-align: right;\">\n",
       "      <th></th>\n",
       "      <th>Technique name</th>\n",
       "      <th>Accuracy</th>\n",
       "    </tr>\n",
       "  </thead>\n",
       "  <tbody>\n",
       "    <tr>\n",
       "      <td>0</td>\n",
       "      <td>Vanilla Viterbi</td>\n",
       "      <td>92.42</td>\n",
       "    </tr>\n",
       "    <tr>\n",
       "      <td>1</td>\n",
       "      <td>Viterbi_mod_1</td>\n",
       "      <td>94.22</td>\n",
       "    </tr>\n",
       "    <tr>\n",
       "      <td>2</td>\n",
       "      <td>Viterbi_mod_2</td>\n",
       "      <td>95.31</td>\n",
       "    </tr>\n",
       "  </tbody>\n",
       "</table>\n",
       "</div>"
      ],
      "text/plain": [
       "    Technique name  Accuracy\n",
       "0  Vanilla Viterbi     92.42\n",
       "1    Viterbi_mod_1     94.22\n",
       "2    Viterbi_mod_2     95.31"
      ]
     },
     "execution_count": 31,
     "metadata": {},
     "output_type": "execute_result"
    }
   ],
   "source": [
    "# Creating dataframe for comparing accuracies of different approaches of viterbi algorithm\n",
    "acc_dict = {'Technique name': ['Vanilla Viterbi','Viterbi_mod_1','Viterbi_mod_2'],\n",
    "             'Accuracy':[vanilla_viterbi_accuracy, viterbi_mod_1_accuracy, viterbi_mod_2_accuracy]}\n",
    "acc_df = pd.DataFrame(acc_dict)\n",
    "acc_df.head()"
   ]
  },
  {
   "cell_type": "code",
   "execution_count": 32,
   "metadata": {},
   "outputs": [
    {
     "data": {
      "image/png": "[encoded data removed]",
      "text/plain": [
       "<Figure size 576x432 with 1 Axes>"
      ]
     },
     "metadata": {
      "needs_background": "light"
     },
     "output_type": "display_data"
    }
   ],
   "source": [
    "# Creating visual representation accuracy of different viterbi approaches\n",
    "fig = plt.figure(figsize=[8,6])\n",
    "\n",
    "plt.plot(acc_df['Technique name'], acc_df['Accuracy'], color ='red')\n",
    "plt.vlines(x='Vanilla Viterbi', ymax = vanilla_viterbi_accuracy, ymin=85, colors=\"g\", linestyles=\"--\")\n",
    "plt.vlines(x='Viterbi_mod_1', ymax = viterbi_mod_1_accuracy, ymin=85, colors=\"g\", linestyles=\"--\")\n",
    "plt.vlines(x='Viterbi_mod_2', ymax = viterbi_mod_2_accuracy, ymin=85, colors=\"g\", linestyles=\"--\")\n",
    "plt.xlabel(\"Viterbi Techniques\")\n",
    "plt.ylabel(\"Accuracy\")\n",
    "\n",
    "plt.show()"
   ]
  },
  {
   "cell_type": "markdown",
   "metadata": {},
   "source": [
    "### List down cases which were incorrectly tagged by original POS tagger and got corrected by your modifications"
   ]
  },
  {
   "cell_type": "code",
   "execution_count": 33,
   "metadata": {},
   "outputs": [
    {
     "data": {
      "text/plain": [
       "['Android is a mobile operating system developed by Google.',\n",
       " 'Android has been the best-selling OS worldwide on smartphones since 2011 and on tablets since 2013.',\n",
       " \"Google and Twitter made a deal in 2015 that gave Google access to Twitter's firehose.\",\n",
       " 'Twitter is an online news and social networking service on which users post and interact with messages known as tweets.',\n",
       " 'Before entering politics, Donald Trump was a domineering businessman and a television personality.',\n",
       " 'The 2018 FIFA World Cup is the 21st FIFA World Cup, an international football tournament contested once every four years.',\n",
       " 'This is the first World Cup to be held in Eastern Europe and the 11th time that it has been held in Europe.',\n",
       " 'Show me the cheapest round trips from Dallas to Atlanta',\n",
       " 'I would like to see flights from Denver to Philadelphia.',\n",
       " 'Show me the price of the flights leaving Atlanta at about 3 in the afternoon and arriving in San Francisco.',\n",
       " 'NASA invited social media users to experience the launch of ICESAT-2 Satellite.',\n",
       " '',\n",
       " '',\n",
       " '']"
      ]
     },
     "execution_count": 33,
     "metadata": {},
     "output_type": "execute_result"
    }
   ],
   "source": [
    "# Reading test sentences file\n",
    "test_sentences = open('Test_sentences.txt',mode='r')\n",
    "text_file_read = test_sentences.read() \n",
    "sample_sentences = text_file_read.splitlines()\n",
    "test_sentences.close()\n",
    "sample_sentences"
   ]
  },
  {
   "cell_type": "code",
   "execution_count": 34,
   "metadata": {},
   "outputs": [],
   "source": [
    "# Creating function for tagging comparison between vanilla Viterbi and modified Viterbi technique\n",
    "def compare_tagging(sample_sentence):\n",
    "    tagging_1 = vanilla_Viterbi(word_tokenize(sample_sentence))\n",
    "    tagging_2 = Viterbi_mod_2(word_tokenize(sample_sentence))\n",
    "        \n",
    "    word =[]\n",
    "    Vanilla_Viterbi_tag = []\n",
    "    Viterbi_mod_2_tag = []\n",
    "    \n",
    "    for i,j in tagging_1: \n",
    "        for x,y in tagging_2:\n",
    "            if(i==x and j!=y):\n",
    "                word.append(i)\n",
    "                Vanilla_Viterbi_tag.append(j)                \n",
    "                Viterbi_mod_2_tag.append(y)\n",
    "\n",
    "    tagging_dict = {'Word':word, 'Vanilla_Viterbi_tag':Vanilla_Viterbi_tag, 'Viterbi_mod_2_tag':Viterbi_mod_2_tag}\n",
    "    tagging_df = pd.DataFrame(tagging_dict)  # Creating dataframe\n",
    "    print('Sentence: ',sample_sentence)\n",
    "    print('-'*120)\n",
    "    return(tagging_df.head(30))"
   ]
  },
  {
   "cell_type": "markdown",
   "metadata": {},
   "source": [
    "#### <font color = 'red'>Tagging sample sentences using vanilla Viterbi and modified Viterbi techniques "
   ]
  },
  {
   "cell_type": "code",
   "execution_count": 35,
   "metadata": {},
   "outputs": [
    {
     "name": "stdout",
     "output_type": "stream",
     "text": [
      "Sentence:  Android is a mobile operating system developed by Google.\n",
      "------------------------------------------------------------------------------------------------------------------------\n"
     ]
    },
    {
     "data": {
      "text/html": [
       "<div>\n",
       "<style scoped>\n",
       "    .dataframe tbody tr th:only-of-type {\n",
       "        vertical-align: middle;\n",
       "    }\n",
       "\n",
       "    .dataframe tbody tr th {\n",
       "        vertical-align: top;\n",
       "    }\n",
       "\n",
       "    .dataframe thead th {\n",
       "        text-align: right;\n",
       "    }\n",
       "</style>\n",
       "<table border=\"1\" class=\"dataframe\">\n",
       "  <thead>\n",
       "    <tr style=\"text-align: right;\">\n",
       "      <th></th>\n",
       "      <th>Word</th>\n",
       "      <th>Vanilla_Viterbi_tag</th>\n",
       "      <th>Viterbi_mod_2_tag</th>\n",
       "    </tr>\n",
       "  </thead>\n",
       "  <tbody>\n",
       "    <tr>\n",
       "      <td>0</td>\n",
       "      <td>Android</td>\n",
       "      <td>NUM</td>\n",
       "      <td>NOUN</td>\n",
       "    </tr>\n",
       "    <tr>\n",
       "      <td>1</td>\n",
       "      <td>Google</td>\n",
       "      <td>NUM</td>\n",
       "      <td>NOUN</td>\n",
       "    </tr>\n",
       "  </tbody>\n",
       "</table>\n",
       "</div>"
      ],
      "text/plain": [
       "      Word Vanilla_Viterbi_tag Viterbi_mod_2_tag\n",
       "0  Android                 NUM              NOUN\n",
       "1   Google                 NUM              NOUN"
      ]
     },
     "execution_count": 35,
     "metadata": {},
     "output_type": "execute_result"
    }
   ],
   "source": [
    "# Sample test case 1:\n",
    "compare_tagging(sample_sentences[0])"
   ]
  },
  {
   "cell_type": "markdown",
   "metadata": {},
   "source": [
    "#### <font color = 'red'>As you can see the words `'Android'` and `'Google'` which were incorrectly tagged by Vanilla Viterbi are tagged correctly as `'NOUN'` by modified Viterbi method using combination of rule based and unigram tagger."
   ]
  },
  {
   "cell_type": "code",
   "execution_count": 36,
   "metadata": {
    "scrolled": true
   },
   "outputs": [
    {
     "name": "stdout",
     "output_type": "stream",
     "text": [
      "Sentence:  Android has been the best-selling OS worldwide on smartphones since 2011 and on tablets since 2013.\n",
      "------------------------------------------------------------------------------------------------------------------------\n"
     ]
    },
    {
     "data": {
      "text/html": [
       "<div>\n",
       "<style scoped>\n",
       "    .dataframe tbody tr th:only-of-type {\n",
       "        vertical-align: middle;\n",
       "    }\n",
       "\n",
       "    .dataframe tbody tr th {\n",
       "        vertical-align: top;\n",
       "    }\n",
       "\n",
       "    .dataframe thead th {\n",
       "        text-align: right;\n",
       "    }\n",
       "</style>\n",
       "<table border=\"1\" class=\"dataframe\">\n",
       "  <thead>\n",
       "    <tr style=\"text-align: right;\">\n",
       "      <th></th>\n",
       "      <th>Word</th>\n",
       "      <th>Vanilla_Viterbi_tag</th>\n",
       "      <th>Viterbi_mod_2_tag</th>\n",
       "    </tr>\n",
       "  </thead>\n",
       "  <tbody>\n",
       "    <tr>\n",
       "      <td>0</td>\n",
       "      <td>Android</td>\n",
       "      <td>NUM</td>\n",
       "      <td>NOUN</td>\n",
       "    </tr>\n",
       "    <tr>\n",
       "      <td>1</td>\n",
       "      <td>OS</td>\n",
       "      <td>NUM</td>\n",
       "      <td>NOUN</td>\n",
       "    </tr>\n",
       "    <tr>\n",
       "      <td>2</td>\n",
       "      <td>worldwide</td>\n",
       "      <td>NUM</td>\n",
       "      <td>NOUN</td>\n",
       "    </tr>\n",
       "    <tr>\n",
       "      <td>3</td>\n",
       "      <td>smartphones</td>\n",
       "      <td>NUM</td>\n",
       "      <td>VERB</td>\n",
       "    </tr>\n",
       "  </tbody>\n",
       "</table>\n",
       "</div>"
      ],
      "text/plain": [
       "          Word Vanilla_Viterbi_tag Viterbi_mod_2_tag\n",
       "0      Android                 NUM              NOUN\n",
       "1           OS                 NUM              NOUN\n",
       "2    worldwide                 NUM              NOUN\n",
       "3  smartphones                 NUM              VERB"
      ]
     },
     "execution_count": 36,
     "metadata": {},
     "output_type": "execute_result"
    }
   ],
   "source": [
    "# Sample test case 2:\n",
    "compare_tagging(sample_sentences[1])"
   ]
  },
  {
   "cell_type": "markdown",
   "metadata": {},
   "source": [
    "#### <font color = 'red'>Here the words `'Android'` and `'OS'` which were incorrectly tagged by Vanilla Viterbi are tagged correctly as `'NOUN'` by modified Viterbi method using combination of rule based and unigram tagger."
   ]
  },
  {
   "cell_type": "code",
   "execution_count": 37,
   "metadata": {},
   "outputs": [
    {
     "name": "stdout",
     "output_type": "stream",
     "text": [
      "Sentence:  Google and Twitter made a deal in 2015 that gave Google access to Twitter's firehose.\n",
      "------------------------------------------------------------------------------------------------------------------------\n"
     ]
    },
    {
     "data": {
      "text/html": [
       "<div>\n",
       "<style scoped>\n",
       "    .dataframe tbody tr th:only-of-type {\n",
       "        vertical-align: middle;\n",
       "    }\n",
       "\n",
       "    .dataframe tbody tr th {\n",
       "        vertical-align: top;\n",
       "    }\n",
       "\n",
       "    .dataframe thead th {\n",
       "        text-align: right;\n",
       "    }\n",
       "</style>\n",
       "<table border=\"1\" class=\"dataframe\">\n",
       "  <thead>\n",
       "    <tr style=\"text-align: right;\">\n",
       "      <th></th>\n",
       "      <th>Word</th>\n",
       "      <th>Vanilla_Viterbi_tag</th>\n",
       "      <th>Viterbi_mod_2_tag</th>\n",
       "    </tr>\n",
       "  </thead>\n",
       "  <tbody>\n",
       "    <tr>\n",
       "      <td>0</td>\n",
       "      <td>Google</td>\n",
       "      <td>NUM</td>\n",
       "      <td>NOUN</td>\n",
       "    </tr>\n",
       "    <tr>\n",
       "      <td>1</td>\n",
       "      <td>Google</td>\n",
       "      <td>NUM</td>\n",
       "      <td>NOUN</td>\n",
       "    </tr>\n",
       "    <tr>\n",
       "      <td>2</td>\n",
       "      <td>Twitter</td>\n",
       "      <td>NUM</td>\n",
       "      <td>NOUN</td>\n",
       "    </tr>\n",
       "    <tr>\n",
       "      <td>3</td>\n",
       "      <td>Twitter</td>\n",
       "      <td>NUM</td>\n",
       "      <td>NOUN</td>\n",
       "    </tr>\n",
       "    <tr>\n",
       "      <td>4</td>\n",
       "      <td>Google</td>\n",
       "      <td>NUM</td>\n",
       "      <td>NOUN</td>\n",
       "    </tr>\n",
       "    <tr>\n",
       "      <td>5</td>\n",
       "      <td>Google</td>\n",
       "      <td>NUM</td>\n",
       "      <td>NOUN</td>\n",
       "    </tr>\n",
       "    <tr>\n",
       "      <td>6</td>\n",
       "      <td>Twitter</td>\n",
       "      <td>NUM</td>\n",
       "      <td>NOUN</td>\n",
       "    </tr>\n",
       "    <tr>\n",
       "      <td>7</td>\n",
       "      <td>Twitter</td>\n",
       "      <td>NUM</td>\n",
       "      <td>NOUN</td>\n",
       "    </tr>\n",
       "    <tr>\n",
       "      <td>8</td>\n",
       "      <td>firehose</td>\n",
       "      <td>NUM</td>\n",
       "      <td>NOUN</td>\n",
       "    </tr>\n",
       "  </tbody>\n",
       "</table>\n",
       "</div>"
      ],
      "text/plain": [
       "       Word Vanilla_Viterbi_tag Viterbi_mod_2_tag\n",
       "0    Google                 NUM              NOUN\n",
       "1    Google                 NUM              NOUN\n",
       "2   Twitter                 NUM              NOUN\n",
       "3   Twitter                 NUM              NOUN\n",
       "4    Google                 NUM              NOUN\n",
       "5    Google                 NUM              NOUN\n",
       "6   Twitter                 NUM              NOUN\n",
       "7   Twitter                 NUM              NOUN\n",
       "8  firehose                 NUM              NOUN"
      ]
     },
     "execution_count": 37,
     "metadata": {},
     "output_type": "execute_result"
    }
   ],
   "source": [
    "# Sample test case 3:\n",
    "compare_tagging(sample_sentences[2])"
   ]
  },
  {
   "cell_type": "markdown",
   "metadata": {},
   "source": [
    "#### <font color = 'red'>Here the words `'Google'`, `'Twitter'` and `'firehose'` which were incorrectly tagged by Vanilla Viterbi are tagged correctly as `'NOUN'` by modified Viterbi method using combination of rule based and unigram tagger."
   ]
  },
  {
   "cell_type": "code",
   "execution_count": 38,
   "metadata": {
    "scrolled": true
   },
   "outputs": [
    {
     "name": "stdout",
     "output_type": "stream",
     "text": [
      "Sentence:  Twitter is an online news and social networking service on which users post and interact with messages known as tweets.\n",
      "------------------------------------------------------------------------------------------------------------------------\n"
     ]
    },
    {
     "data": {
      "text/html": [
       "<div>\n",
       "<style scoped>\n",
       "    .dataframe tbody tr th:only-of-type {\n",
       "        vertical-align: middle;\n",
       "    }\n",
       "\n",
       "    .dataframe tbody tr th {\n",
       "        vertical-align: top;\n",
       "    }\n",
       "\n",
       "    .dataframe thead th {\n",
       "        text-align: right;\n",
       "    }\n",
       "</style>\n",
       "<table border=\"1\" class=\"dataframe\">\n",
       "  <thead>\n",
       "    <tr style=\"text-align: right;\">\n",
       "      <th></th>\n",
       "      <th>Word</th>\n",
       "      <th>Vanilla_Viterbi_tag</th>\n",
       "      <th>Viterbi_mod_2_tag</th>\n",
       "    </tr>\n",
       "  </thead>\n",
       "  <tbody>\n",
       "    <tr>\n",
       "      <td>0</td>\n",
       "      <td>Twitter</td>\n",
       "      <td>NUM</td>\n",
       "      <td>NOUN</td>\n",
       "    </tr>\n",
       "    <tr>\n",
       "      <td>1</td>\n",
       "      <td>online</td>\n",
       "      <td>NUM</td>\n",
       "      <td>NOUN</td>\n",
       "    </tr>\n",
       "    <tr>\n",
       "      <td>2</td>\n",
       "      <td>interact</td>\n",
       "      <td>NUM</td>\n",
       "      <td>NOUN</td>\n",
       "    </tr>\n",
       "    <tr>\n",
       "      <td>3</td>\n",
       "      <td>messages</td>\n",
       "      <td>NUM</td>\n",
       "      <td>VERB</td>\n",
       "    </tr>\n",
       "    <tr>\n",
       "      <td>4</td>\n",
       "      <td>tweets</td>\n",
       "      <td>NUM</td>\n",
       "      <td>NOUN</td>\n",
       "    </tr>\n",
       "  </tbody>\n",
       "</table>\n",
       "</div>"
      ],
      "text/plain": [
       "       Word Vanilla_Viterbi_tag Viterbi_mod_2_tag\n",
       "0   Twitter                 NUM              NOUN\n",
       "1    online                 NUM              NOUN\n",
       "2  interact                 NUM              NOUN\n",
       "3  messages                 NUM              VERB\n",
       "4    tweets                 NUM              NOUN"
      ]
     },
     "execution_count": 38,
     "metadata": {},
     "output_type": "execute_result"
    }
   ],
   "source": [
    "# Sample test case 4:\n",
    "compare_tagging(sample_sentences[3])"
   ]
  },
  {
   "cell_type": "markdown",
   "metadata": {},
   "source": [
    "#### <font color = 'red'>Here the words `'Twitter'` and `'tweets'` which were incorrectly tagged by Vanilla Viterbi are tagged correctly as `'NOUN'` by modified Viterbi method using combination of rule based and unigram tagger."
   ]
  },
  {
   "cell_type": "code",
   "execution_count": 39,
   "metadata": {},
   "outputs": [
    {
     "name": "stdout",
     "output_type": "stream",
     "text": [
      "Sentence:  Before entering politics, Donald Trump was a domineering businessman and a television personality.\n",
      "------------------------------------------------------------------------------------------------------------------------\n"
     ]
    },
    {
     "data": {
      "text/html": [
       "<div>\n",
       "<style scoped>\n",
       "    .dataframe tbody tr th:only-of-type {\n",
       "        vertical-align: middle;\n",
       "    }\n",
       "\n",
       "    .dataframe tbody tr th {\n",
       "        vertical-align: top;\n",
       "    }\n",
       "\n",
       "    .dataframe thead th {\n",
       "        text-align: right;\n",
       "    }\n",
       "</style>\n",
       "<table border=\"1\" class=\"dataframe\">\n",
       "  <thead>\n",
       "    <tr style=\"text-align: right;\">\n",
       "      <th></th>\n",
       "      <th>Word</th>\n",
       "      <th>Vanilla_Viterbi_tag</th>\n",
       "      <th>Viterbi_mod_2_tag</th>\n",
       "    </tr>\n",
       "  </thead>\n",
       "  <tbody>\n",
       "    <tr>\n",
       "      <td>0</td>\n",
       "      <td>domineering</td>\n",
       "      <td>NUM</td>\n",
       "      <td>VERB</td>\n",
       "    </tr>\n",
       "    <tr>\n",
       "      <td>1</td>\n",
       "      <td>personality</td>\n",
       "      <td>NUM</td>\n",
       "      <td>NOUN</td>\n",
       "    </tr>\n",
       "  </tbody>\n",
       "</table>\n",
       "</div>"
      ],
      "text/plain": [
       "          Word Vanilla_Viterbi_tag Viterbi_mod_2_tag\n",
       "0  domineering                 NUM              VERB\n",
       "1  personality                 NUM              NOUN"
      ]
     },
     "execution_count": 39,
     "metadata": {},
     "output_type": "execute_result"
    }
   ],
   "source": [
    "# Sample test case 5:\n",
    "compare_tagging(sample_sentences[4])"
   ]
  },
  {
   "cell_type": "markdown",
   "metadata": {},
   "source": [
    "#### <font color = 'red'>Here the word `'personality'`  which was incorrectly tagged by Vanilla Viterbi is tagged correctly as `'NOUN'` by modified Viterbi method using combination of rule based and unigram tagger."
   ]
  },
  {
   "cell_type": "code",
   "execution_count": 40,
   "metadata": {},
   "outputs": [
    {
     "name": "stdout",
     "output_type": "stream",
     "text": [
      "Sentence:  The 2018 FIFA World Cup is the 21st FIFA World Cup, an international football tournament contested once every four years.\n",
      "------------------------------------------------------------------------------------------------------------------------\n"
     ]
    },
    {
     "data": {
      "text/html": [
       "<div>\n",
       "<style scoped>\n",
       "    .dataframe tbody tr th:only-of-type {\n",
       "        vertical-align: middle;\n",
       "    }\n",
       "\n",
       "    .dataframe tbody tr th {\n",
       "        vertical-align: top;\n",
       "    }\n",
       "\n",
       "    .dataframe thead th {\n",
       "        text-align: right;\n",
       "    }\n",
       "</style>\n",
       "<table border=\"1\" class=\"dataframe\">\n",
       "  <thead>\n",
       "    <tr style=\"text-align: right;\">\n",
       "      <th></th>\n",
       "      <th>Word</th>\n",
       "      <th>Vanilla_Viterbi_tag</th>\n",
       "      <th>Viterbi_mod_2_tag</th>\n",
       "    </tr>\n",
       "  </thead>\n",
       "  <tbody>\n",
       "    <tr>\n",
       "      <td>0</td>\n",
       "      <td>FIFA</td>\n",
       "      <td>NUM</td>\n",
       "      <td>NOUN</td>\n",
       "    </tr>\n",
       "    <tr>\n",
       "      <td>1</td>\n",
       "      <td>FIFA</td>\n",
       "      <td>NUM</td>\n",
       "      <td>NOUN</td>\n",
       "    </tr>\n",
       "    <tr>\n",
       "      <td>2</td>\n",
       "      <td>Cup</td>\n",
       "      <td>NUM</td>\n",
       "      <td>NOUN</td>\n",
       "    </tr>\n",
       "    <tr>\n",
       "      <td>3</td>\n",
       "      <td>Cup</td>\n",
       "      <td>NUM</td>\n",
       "      <td>NOUN</td>\n",
       "    </tr>\n",
       "    <tr>\n",
       "      <td>4</td>\n",
       "      <td>21st</td>\n",
       "      <td>NUM</td>\n",
       "      <td>NOUN</td>\n",
       "    </tr>\n",
       "    <tr>\n",
       "      <td>5</td>\n",
       "      <td>FIFA</td>\n",
       "      <td>NUM</td>\n",
       "      <td>NOUN</td>\n",
       "    </tr>\n",
       "    <tr>\n",
       "      <td>6</td>\n",
       "      <td>FIFA</td>\n",
       "      <td>NUM</td>\n",
       "      <td>NOUN</td>\n",
       "    </tr>\n",
       "    <tr>\n",
       "      <td>7</td>\n",
       "      <td>Cup</td>\n",
       "      <td>NUM</td>\n",
       "      <td>NOUN</td>\n",
       "    </tr>\n",
       "    <tr>\n",
       "      <td>8</td>\n",
       "      <td>Cup</td>\n",
       "      <td>NUM</td>\n",
       "      <td>NOUN</td>\n",
       "    </tr>\n",
       "    <tr>\n",
       "      <td>9</td>\n",
       "      <td>tournament</td>\n",
       "      <td>NUM</td>\n",
       "      <td>NOUN</td>\n",
       "    </tr>\n",
       "    <tr>\n",
       "      <td>10</td>\n",
       "      <td>contested</td>\n",
       "      <td>NUM</td>\n",
       "      <td>VERB</td>\n",
       "    </tr>\n",
       "  </tbody>\n",
       "</table>\n",
       "</div>"
      ],
      "text/plain": [
       "          Word Vanilla_Viterbi_tag Viterbi_mod_2_tag\n",
       "0         FIFA                 NUM              NOUN\n",
       "1         FIFA                 NUM              NOUN\n",
       "2          Cup                 NUM              NOUN\n",
       "3          Cup                 NUM              NOUN\n",
       "4         21st                 NUM              NOUN\n",
       "5         FIFA                 NUM              NOUN\n",
       "6         FIFA                 NUM              NOUN\n",
       "7          Cup                 NUM              NOUN\n",
       "8          Cup                 NUM              NOUN\n",
       "9   tournament                 NUM              NOUN\n",
       "10   contested                 NUM              VERB"
      ]
     },
     "execution_count": 40,
     "metadata": {},
     "output_type": "execute_result"
    }
   ],
   "source": [
    "# Sample test case 6:\n",
    "compare_tagging(sample_sentences[5])"
   ]
  },
  {
   "cell_type": "markdown",
   "metadata": {},
   "source": [
    "#### <font color = 'red'>Here the words `'FIFA'`, `'Cup'` and `'tournament'` which were incorrectly tagged by Vanilla Viterbi are tagged correctly as `'NOUN'`\n",
    "#### <font color = 'red'>and `'contested'` is correctly tagged as `'VERB'` by modified Viterbi method using combination of rule based and unigram tagger."
   ]
  },
  {
   "cell_type": "markdown",
   "metadata": {},
   "source": [
    "### <font color = 'blue'>Conclusion:\n",
    "### <font color = 'blue'>Thus we conclude that the modified Viterbi algorithm using combination of rule based and unigram tagger works well in case of unknown words as compared to the vanilla Viterbi algorithm."
   ]
  },
  {
   "cell_type": "code",
   "execution_count": null,
   "metadata": {},
   "outputs": [],
   "source": []
  }
 ],
 "metadata": {
  "kernelspec": {
   "display_name": "Python 3",
   "language": "python",
   "name": "python3"
  },
  "language_info": {
   "codemirror_mode": {
    "name": "ipython",
    "version": 3
   },
   "file_extension": ".py",
   "mimetype": "text/x-python",
   "name": "python",
   "nbconvert_exporter": "python",
   "pygments_lexer": "ipython3",
   "version": "3.8.3"
  }
 },
 "nbformat": 4,
 "nbformat_minor": 2
}
